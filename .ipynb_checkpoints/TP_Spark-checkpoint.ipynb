{
 "cells": [
  {
   "cell_type": "code",
   "execution_count": 2,
   "id": "8d0cacca-856c-4103-9f74-f4564d86a2f8",
   "metadata": {},
   "outputs": [
    {
     "name": "stdout",
     "output_type": "stream",
     "text": [
      "Requirement already satisfied: pip in /opt/anaconda3/lib/python3.11/site-packages (23.3.1)\n",
      "Collecting pip\n",
      "  Using cached pip-24.1.1-py3-none-any.whl.metadata (3.6 kB)\n",
      "Using cached pip-24.1.1-py3-none-any.whl (1.8 MB)\n",
      "Installing collected packages: pip\n",
      "  Attempting uninstall: pip\n",
      "    Found existing installation: pip 23.3.1\n",
      "    Uninstalling pip-23.3.1:\n",
      "      Successfully uninstalled pip-23.3.1\n",
      "Successfully installed pip-24.1.1\n",
      "Note: you may need to restart the kernel to use updated packages.\n"
     ]
    }
   ],
   "source": [
    "pip install --upgrade pip"
   ]
  },
  {
   "cell_type": "code",
   "execution_count": 3,
   "id": "2f556848-726b-4b7d-9faa-d4bb49bbbd81",
   "metadata": {},
   "outputs": [
    {
     "name": "stdout",
     "output_type": "stream",
     "text": [
      "\u001b[33mWARNING: Skipping pyspark as it is not installed.\u001b[0m\u001b[33m\n",
      "\u001b[0mNote: you may need to restart the kernel to use updated packages.\n"
     ]
    }
   ],
   "source": [
    "pip uninstall pyspark"
   ]
  },
  {
   "cell_type": "code",
   "execution_count": 4,
   "id": "b7d6133d-19a5-48d8-b129-716160653162",
   "metadata": {},
   "outputs": [
    {
     "name": "stdout",
     "output_type": "stream",
     "text": [
      "Collecting pyspark\n",
      "  Downloading pyspark-3.5.1.tar.gz (317.0 MB)\n",
      "\u001b[2K     \u001b[90m━━━━━━━━━━━━━━━━━━━━━━━━━━━━━━━━━━━━━━\u001b[0m \u001b[32m317.0/317.0 MB\u001b[0m \u001b[31m70.3 kB/s\u001b[0m eta \u001b[36m0:00:00\u001b[0m00:01\u001b[0m01:57\u001b[0m\n",
      "\u001b[?25h  Preparing metadata (setup.py) ... \u001b[?25ldone\n",
      "\u001b[?25hCollecting py4j==0.10.9.7 (from pyspark)\n",
      "  Downloading py4j-0.10.9.7-py2.py3-none-any.whl.metadata (1.5 kB)\n",
      "Downloading py4j-0.10.9.7-py2.py3-none-any.whl (200 kB)\n",
      "\u001b[2K   \u001b[90m━━━━━━━━━━━━━━━━━━━━━━━━━━━━━━━━━━━━━━━━\u001b[0m \u001b[32m200.5/200.5 kB\u001b[0m \u001b[31m44.9 kB/s\u001b[0m eta \u001b[36m0:00:00\u001b[0ma \u001b[36m0:00:01\u001b[0m\n",
      "\u001b[?25hBuilding wheels for collected packages: pyspark\n",
      "  Building wheel for pyspark (setup.py) ... \u001b[?25ldone\n",
      "\u001b[?25h  Created wheel for pyspark: filename=pyspark-3.5.1-py2.py3-none-any.whl size=317488491 sha256=06ad4f1d83abb292e33779ad8659018c13177d517c010075deb383d97a7c1f73\n",
      "  Stored in directory: /Users/mar/Library/Caches/pip/wheels/95/13/41/f7f135ee114175605fb4f0a89e7389f3742aa6c1e1a5bcb657\n",
      "Successfully built pyspark\n",
      "Installing collected packages: py4j, pyspark\n",
      "Successfully installed py4j-0.10.9.7 pyspark-3.5.1\n",
      "Note: you may need to restart the kernel to use updated packages.\n"
     ]
    }
   ],
   "source": [
    "pip install pyspark"
   ]
  },
  {
   "cell_type": "code",
   "execution_count": 8,
   "id": "ee8d4e98-ed96-45c8-9108-68c7a20bcd9f",
   "metadata": {},
   "outputs": [
    {
     "name": "stdout",
     "output_type": "stream",
     "text": [
      "Collecting findspark\n",
      "  Downloading findspark-2.0.1-py2.py3-none-any.whl.metadata (352 bytes)\n",
      "Downloading findspark-2.0.1-py2.py3-none-any.whl (4.4 kB)\n",
      "Installing collected packages: findspark\n",
      "Successfully installed findspark-2.0.1\n",
      "Note: you may need to restart the kernel to use updated packages.\n"
     ]
    }
   ],
   "source": [
    "pip install findspark"
   ]
  },
  {
   "cell_type": "code",
   "execution_count": 15,
   "id": "70433e54-8c18-4665-98de-d4c672592a26",
   "metadata": {},
   "outputs": [
    {
     "name": "stdout",
     "output_type": "stream",
     "text": [
      "  \u001b[1;31merror\u001b[0m: \u001b[1msubprocess-exited-with-error\u001b[0m\n",
      "  \n",
      "  \u001b[31m×\u001b[0m \u001b[32mGetting requirements to build wheel\u001b[0m did not run successfully.\n",
      "  \u001b[31m│\u001b[0m exit code: \u001b[1;36m1\u001b[0m\n",
      "  \u001b[31m╰─>\u001b[0m \u001b[31m[30 lines of output]\u001b[0m\n",
      "  \u001b[31m   \u001b[0m /bin/sh: pkg-config: command not found\n",
      "  \u001b[31m   \u001b[0m /bin/sh: pkg-config: command not found\n",
      "  \u001b[31m   \u001b[0m /bin/sh: pkg-config: command not found\n",
      "  \u001b[31m   \u001b[0m Trying pkg-config --exists mysqlclient\n",
      "  \u001b[31m   \u001b[0m Command 'pkg-config --exists mysqlclient' returned non-zero exit status 127.\n",
      "  \u001b[31m   \u001b[0m Trying pkg-config --exists mariadb\n",
      "  \u001b[31m   \u001b[0m Command 'pkg-config --exists mariadb' returned non-zero exit status 127.\n",
      "  \u001b[31m   \u001b[0m Trying pkg-config --exists libmariadb\n",
      "  \u001b[31m   \u001b[0m Command 'pkg-config --exists libmariadb' returned non-zero exit status 127.\n",
      "  \u001b[31m   \u001b[0m Traceback (most recent call last):\n",
      "  \u001b[31m   \u001b[0m   File \"/opt/anaconda3/lib/python3.11/site-packages/pip/_vendor/pyproject_hooks/_in_process/_in_process.py\", line 353, in <module>\n",
      "  \u001b[31m   \u001b[0m     main()\n",
      "  \u001b[31m   \u001b[0m   File \"/opt/anaconda3/lib/python3.11/site-packages/pip/_vendor/pyproject_hooks/_in_process/_in_process.py\", line 335, in main\n",
      "  \u001b[31m   \u001b[0m     json_out['return_val'] = hook(**hook_input['kwargs'])\n",
      "  \u001b[31m   \u001b[0m                              ^^^^^^^^^^^^^^^^^^^^^^^^^^^^\n",
      "  \u001b[31m   \u001b[0m   File \"/opt/anaconda3/lib/python3.11/site-packages/pip/_vendor/pyproject_hooks/_in_process/_in_process.py\", line 118, in get_requires_for_build_wheel\n",
      "  \u001b[31m   \u001b[0m     return hook(config_settings)\n",
      "  \u001b[31m   \u001b[0m            ^^^^^^^^^^^^^^^^^^^^^\n",
      "  \u001b[31m   \u001b[0m   File \"/private/var/folders/bx/204yq0ms2g9b_nsks2zdj9500000gp/T/pip-build-env-v1u97m_8/overlay/lib/python3.11/site-packages/setuptools/build_meta.py\", line 327, in get_requires_for_build_wheel\n",
      "  \u001b[31m   \u001b[0m     return self._get_build_requires(config_settings, requirements=[])\n",
      "  \u001b[31m   \u001b[0m            ^^^^^^^^^^^^^^^^^^^^^^^^^^^^^^^^^^^^^^^^^^^^^^^^^^^^^^^^^^\n",
      "  \u001b[31m   \u001b[0m   File \"/private/var/folders/bx/204yq0ms2g9b_nsks2zdj9500000gp/T/pip-build-env-v1u97m_8/overlay/lib/python3.11/site-packages/setuptools/build_meta.py\", line 297, in _get_build_requires\n",
      "  \u001b[31m   \u001b[0m     self.run_setup()\n",
      "  \u001b[31m   \u001b[0m   File \"/private/var/folders/bx/204yq0ms2g9b_nsks2zdj9500000gp/T/pip-build-env-v1u97m_8/overlay/lib/python3.11/site-packages/setuptools/build_meta.py\", line 313, in run_setup\n",
      "  \u001b[31m   \u001b[0m     exec(code, locals())\n",
      "  \u001b[31m   \u001b[0m   File \"<string>\", line 155, in <module>\n",
      "  \u001b[31m   \u001b[0m   File \"<string>\", line 49, in get_config_posix\n",
      "  \u001b[31m   \u001b[0m   File \"<string>\", line 28, in find_package_name\n",
      "  \u001b[31m   \u001b[0m Exception: Can not find valid pkg-config name.\n",
      "  \u001b[31m   \u001b[0m Specify MYSQLCLIENT_CFLAGS and MYSQLCLIENT_LDFLAGS env vars manually\n",
      "  \u001b[31m   \u001b[0m \u001b[31m[end of output]\u001b[0m\n",
      "  \n",
      "  \u001b[1;35mnote\u001b[0m: This error originates from a subprocess, and is likely not a problem with pip.\n",
      "\u001b[1;31merror\u001b[0m: \u001b[1msubprocess-exited-with-error\u001b[0m\n",
      "\n",
      "\u001b[31m×\u001b[0m \u001b[32mGetting requirements to build wheel\u001b[0m did not run successfully.\n",
      "\u001b[31m│\u001b[0m exit code: \u001b[1;36m1\u001b[0m\n",
      "\u001b[31m╰─>\u001b[0m See above for output.\n",
      "\n",
      "\u001b[1;35mnote\u001b[0m: This error originates from a subprocess, and is likely not a problem with pip.\n",
      "Note: you may need to restart the kernel to use updated packages.\n"
     ]
    }
   ],
   "source": [
    "pip install -q mysql"
   ]
  },
  {
   "cell_type": "markdown",
   "id": "b022330c-0a6f-4671-817b-bdf0573f47b4",
   "metadata": {},
   "source": [
    "Initialiser Spark"
   ]
  },
  {
   "cell_type": "code",
   "execution_count": 1,
   "id": "86a162cc-c2a0-44c9-93da-ff4a903610f5",
   "metadata": {},
   "outputs": [
    {
     "name": "stdout",
     "output_type": "stream",
     "text": [
      "findspark.init() initialise les variables d'environnement pour spark\n"
     ]
    }
   ],
   "source": [
    "# Principaux import\n",
    "import findspark\n",
    "print(\"findspark.init() initialise les variables d'environnement pour spark\")\n",
    "findspark.init()\n",
    "\n",
    "from pyspark.sql import SparkSession\n",
    "from pyspark import SparkConf\n",
    "from pyspark.sql.functions import *\n",
    "from pyspark.sql.types import *\n",
    "from datetime import *\n",
    "#import mysql.connector\n",
    "import pandas as pd\n",
    "import numpy as np\n",
    "#from pyspark.sql import HiveContext"
   ]
  },
  {
   "cell_type": "code",
   "execution_count": 10,
   "id": "7d65267c-d3c3-405a-97d2-2e92191fdf08",
   "metadata": {},
   "outputs": [
    {
     "name": "stdout",
     "output_type": "stream",
     "text": [
      "Requirement already satisfied: pandas in /opt/anaconda3/lib/python3.11/site-packages (2.1.4)\n",
      "Requirement already satisfied: openpyxl in /opt/anaconda3/lib/python3.11/site-packages (3.0.10)\n",
      "Requirement already satisfied: numpy<2,>=1.23.2 in /opt/anaconda3/lib/python3.11/site-packages (from pandas) (1.26.4)\n",
      "Requirement already satisfied: python-dateutil>=2.8.2 in /opt/anaconda3/lib/python3.11/site-packages (from pandas) (2.8.2)\n",
      "Requirement already satisfied: pytz>=2020.1 in /opt/anaconda3/lib/python3.11/site-packages (from pandas) (2023.3.post1)\n",
      "Requirement already satisfied: tzdata>=2022.1 in /opt/anaconda3/lib/python3.11/site-packages (from pandas) (2023.3)\n",
      "Requirement already satisfied: et_xmlfile in /opt/anaconda3/lib/python3.11/site-packages (from openpyxl) (1.1.0)\n",
      "Requirement already satisfied: six>=1.5 in /opt/anaconda3/lib/python3.11/site-packages (from python-dateutil>=2.8.2->pandas) (1.16.0)\n",
      "Note: you may need to restart the kernel to use updated packages.\n"
     ]
    }
   ],
   "source": [
    "pip install pandas openpyxl"
   ]
  },
  {
   "cell_type": "code",
   "execution_count": 17,
   "id": "cd2cabda-21c0-4f48-a500-201e0f407d97",
   "metadata": {},
   "outputs": [
    {
     "name": "stderr",
     "output_type": "stream",
     "text": [
      "24/06/30 01:23:54 WARN SparkSession: Using an existing Spark session; only runtime SQL configurations will take effect.\n"
     ]
    }
   ],
   "source": [
    "spark = SparkSession.builder \\\n",
    "    .appName(\"Big Data TP\") \\\n",
    "    .getOrCreate()\n"
   ]
  },
  {
   "cell_type": "markdown",
   "id": "e663dbe6-be39-4682-8d2b-b920b7b1456c",
   "metadata": {},
   "source": [
    "Chargement du dataset"
   ]
  },
  {
   "cell_type": "code",
   "execution_count": 22,
   "id": "5df33739-7da0-4559-b6eb-89c77499b106",
   "metadata": {},
   "outputs": [],
   "source": [
    "# Chemin vers le dataset \n",
    "path =\"global_crisis_data.csv\"\n",
    "\n",
    "# Chargement des données\n",
    "df = spark.read.csv(path, header=True, inferSchema=True)"
   ]
  },
  {
   "cell_type": "code",
   "execution_count": 24,
   "id": "cb645956-9554-4ad0-8b6f-10732a8be302",
   "metadata": {},
   "outputs": [
    {
     "name": "stdout",
     "output_type": "stream",
     "text": [
      "+----+----+-------+------+---------------+--------------------+---------------+-------------+--------+-------------+-------------+-------------+--------------------+--------------------+------------------------+--------------------+------------------------+----------------------------+-------------------------------------------------------------------------------------------------------------------------------------------------------------------------------------------------+----------------------------------------------------------------------------------------------------------------------------------------------------------------------------------------------------------+-----------------------+--------------------+---+--------------------------------------------------------+------------+---------------+----------------+\n",
      "|Case| CC3|Country|  Year|Banking Crisis |Banking_Crisis_Notes|Systemic Crisis|Gold Standard|exch_usd|exch_usd_alt1|exch_usd_alt2|exch_usd_alt3|    conversion_notes|   national currency|exch_primary source code|        exch_sources|Domestic_Debt_In_Default|Domestic_Debt_ Notes/Sources|SOVEREIGN EXTERNAL DEBT 1: DEFAULT and RESTRUCTURINGS, 1800-2012--Does not include defaults on WWI debt to United States and United Kingdom and post-1975 defaults on Official External Creditors|SOVEREIGN EXTERNAL DEBT 2: DEFAULT and RESTRUCTURINGS, 1800-2012--Does not include defaults on WWI debt to United States and United Kingdom but includes post-1975 defaults on Official External Creditors|Defaults_External_Notes|GDP_Weighted_default|  <|Inflation, Annual percentages of average consumer prices|Independence|Currency Crises|Inflation Crises|\n",
      "+----+----+-------+------+---------------+--------------------+---------------+-------------+--------+-------------+-------------+-------------+--------------------+--------------------+------------------------+--------------------+------------------------+----------------------------+-------------------------------------------------------------------------------------------------------------------------------------------------------------------------------------------------+----------------------------------------------------------------------------------------------------------------------------------------------------------------------------------------------------------+-----------------------+--------------------+---+--------------------------------------------------------+------------+---------------+----------------+\n",
      "|NULL|NULL|   NULL|  NULL|              x|                NULL|              x|            x|    NULL|         NULL|         NULL|         NULL|                NULL|                NULL|                    NULL|                NULL|                       x|                        NULL|                                                                                                                                                                                                x|                                                                                                                                                                                                      NULL|                   NULL|                   x|  x|                                                    NULL|           x|              x|               x|\n",
      "|   1| DZA|Algeria|1800.0|              0|                NULL|              0|            0|    NULL|         NULL|         NULL|         NULL|Series already ad...|1830-1877-French ...|                AAXRXDE.|Primary source is...|                       0|                        NULL|                                                                                                                                                                                                0|                                                                                                                                                                                                         0|                   NULL|                   0|n/a|                                                    NULL|           0|              0|               0|\n",
      "|   1| DZA|Algeria|1801.0|              0|                NULL|              0|            0|    NULL|         NULL|         NULL|         NULL|Series already ad...|1830-1877-French ...|                AAXRXDE.|Primary source is...|                       0|                        NULL|                                                                                                                                                                                                0|                                                                                                                                                                                                         0|                   NULL|                   0|n/a|                                                    NULL|           0|              0|               0|\n",
      "|   1| DZA|Algeria|1802.0|              0|                NULL|              0|            0|    NULL|         NULL|         NULL|         NULL|Series already ad...|1830-1877-French ...|                AAXRXDE.|Primary source is...|                       0|                        NULL|                                                                                                                                                                                                0|                                                                                                                                                                                                         0|                   NULL|                   0|n/a|                                                    NULL|           0|              0|               0|\n",
      "|   1| DZA|Algeria|1803.0|              0|                NULL|              0|            0|    NULL|         NULL|         NULL|         NULL|Series already ad...|1830-1877-French ...|                AAXRXDE.|Primary source is...|                       0|                        NULL|                                                                                                                                                                                                0|                                                                                                                                                                                                         0|                   NULL|                   0|n/a|                                                    NULL|           0|              0|               0|\n",
      "|   1| DZA|Algeria|1804.0|              0|                NULL|              0|            0|    NULL|         NULL|         NULL|         NULL|Series already ad...|1830-1877-French ...|                AAXRXDE.|Primary source is...|                       0|                        NULL|                                                                                                                                                                                                0|                                                                                                                                                                                                         0|                   NULL|                   0|n/a|                                                    NULL|           0|              0|               0|\n",
      "|   1| DZA|Algeria|1805.0|              0|                NULL|              0|            0|    NULL|         NULL|         NULL|         NULL|Series already ad...|1830-1877-French ...|                AAXRXDE.|Primary source is...|                       0|                        NULL|                                                                                                                                                                                                0|                                                                                                                                                                                                         0|                   NULL|                   0|n/a|                                                    NULL|           0|              0|               0|\n",
      "|   1| DZA|Algeria|1806.0|              0|                NULL|              0|            0|    NULL|         NULL|         NULL|         NULL|Series already ad...|1830-1877-French ...|                AAXRXDE.|Primary source is...|                       0|                        NULL|                                                                                                                                                                                                0|                                                                                                                                                                                                         0|                   NULL|                   0|n/a|                                                    NULL|           0|              0|               0|\n",
      "|   1| DZA|Algeria|1807.0|              0|                NULL|              0|            0|    NULL|         NULL|         NULL|         NULL|Series already ad...|1830-1877-French ...|                AAXRXDE.|Primary source is...|                       0|                        NULL|                                                                                                                                                                                                0|                                                                                                                                                                                                         0|                   NULL|                   0|n/a|                                                    NULL|           0|              0|               0|\n",
      "|   1| DZA|Algeria|1808.0|              0|                NULL|              0|            0|    NULL|         NULL|         NULL|         NULL|Series already ad...|1830-1877-French ...|                AAXRXDE.|Primary source is...|                       0|                        NULL|                                                                                                                                                                                                0|                                                                                                                                                                                                         0|                   NULL|                   0|n/a|                                                    NULL|           0|              0|               0|\n",
      "|   1| DZA|Algeria|1809.0|              0|                NULL|              0|            0|    NULL|         NULL|         NULL|         NULL|Series already ad...|1830-1877-French ...|                AAXRXDE.|Primary source is...|                       0|                        NULL|                                                                                                                                                                                                0|                                                                                                                                                                                                         0|                   NULL|                   0|n/a|                                                    NULL|           0|              0|               0|\n",
      "|   1| DZA|Algeria|1810.0|              0|                NULL|              0|            0|    NULL|         NULL|         NULL|         NULL|Series already ad...|1830-1877-French ...|                AAXRXDE.|Primary source is...|                       0|                        NULL|                                                                                                                                                                                                0|                                                                                                                                                                                                         0|                   NULL|                   0|n/a|                                                    NULL|           0|              0|               0|\n",
      "|   1| DZA|Algeria|1811.0|              0|                NULL|              0|            0|    NULL|         NULL|         NULL|         NULL|Series already ad...|1830-1877-French ...|                AAXRXDE.|Primary source is...|                       0|                        NULL|                                                                                                                                                                                                0|                                                                                                                                                                                                         0|                   NULL|                   0|n/a|                                                    NULL|           0|              0|               0|\n",
      "|   1| DZA|Algeria|1812.0|              0|                NULL|              0|            0|    NULL|         NULL|         NULL|         NULL|Series already ad...|1830-1877-French ...|                AAXRXDE.|Primary source is...|                       0|                        NULL|                                                                                                                                                                                                0|                                                                                                                                                                                                         0|                   NULL|                   0|n/a|                                                    NULL|           0|              0|               0|\n",
      "|   1| DZA|Algeria|1813.0|              0|                NULL|              0|            0|    NULL|         NULL|         NULL|         NULL|Series already ad...|1830-1877-French ...|                AAXRXDE.|Primary source is...|                       0|                        NULL|                                                                                                                                                                                                0|                                                                                                                                                                                                         0|                   NULL|                   0|n/a|                                                    NULL|           0|              0|               0|\n",
      "|   1| DZA|Algeria|1814.0|              0|                NULL|              0|            0|    NULL|         NULL|         NULL|         NULL|Series already ad...|1830-1877-French ...|                AAXRXDE.|Primary source is...|                       0|                        NULL|                                                                                                                                                                                                0|                                                                                                                                                                                                         0|                   NULL|                   0|n/a|                                                    NULL|           0|              0|               0|\n",
      "|   1| DZA|Algeria|1815.0|              0|                NULL|              0|            0|    NULL|         NULL|         NULL|         NULL|Series already ad...|1830-1877-French ...|                AAXRXDE.|Primary source is...|                       0|                        NULL|                                                                                                                                                                                                0|                                                                                                                                                                                                         0|                   NULL|                   0|n/a|                                                    NULL|           0|              0|               0|\n",
      "|   1| DZA|Algeria|1816.0|              0|                NULL|              0|            0|    NULL|         NULL|         NULL|         NULL|Series already ad...|1830-1877-French ...|                AAXRXDE.|Primary source is...|                       0|                        NULL|                                                                                                                                                                                                0|                                                                                                                                                                                                         0|                   NULL|                   0|n/a|                                                    NULL|           0|              0|               0|\n",
      "|   1| DZA|Algeria|1817.0|              0|                NULL|              0|            0|    NULL|         NULL|         NULL|         NULL|Series already ad...|1830-1877-French ...|                AAXRXDE.|Primary source is...|                       0|                        NULL|                                                                                                                                                                                                0|                                                                                                                                                                                                         0|                   NULL|                   0|n/a|                                                    NULL|           0|              0|               0|\n",
      "|   1| DZA|Algeria|1818.0|              0|                NULL|              0|            0|    NULL|         NULL|         NULL|         NULL|Series already ad...|1830-1877-French ...|                AAXRXDE.|Primary source is...|                       0|                        NULL|                                                                                                                                                                                                0|                                                                                                                                                                                                         0|                   NULL|                   0|n/a|                                                    NULL|           0|              0|               0|\n",
      "+----+----+-------+------+---------------+--------------------+---------------+-------------+--------+-------------+-------------+-------------+--------------------+--------------------+------------------------+--------------------+------------------------+----------------------------+-------------------------------------------------------------------------------------------------------------------------------------------------------------------------------------------------+----------------------------------------------------------------------------------------------------------------------------------------------------------------------------------------------------------+-----------------------+--------------------+---+--------------------------------------------------------+------------+---------------+----------------+\n",
      "only showing top 20 rows\n",
      "\n"
     ]
    }
   ],
   "source": [
    "df.show()"
   ]
  },
  {
   "cell_type": "code",
   "execution_count": 30,
   "id": "993dd335-d2d2-4c6b-9baa-2e942806c735",
   "metadata": {},
   "outputs": [
    {
     "data": {
      "text/plain": [
       "Row(Case=None, CC3=None, Country=None, Year=None, Banking Crisis ='x', Banking_Crisis_Notes=None, Systemic Crisis='x', Gold Standard='x', exch_usd=None, exch_usd_alt1=None, exch_usd_alt2=None, exch_usd_alt3=None, conversion_notes=None, national currency=None, exch_primary source code=None, exch_sources=None, Domestic_Debt_In_Default='x', Domestic_Debt_ Notes/Sources=None, SOVEREIGN EXTERNAL DEBT 1: DEFAULT and RESTRUCTURINGS, 1800-2012--Does not include defaults on WWI debt to United States and United Kingdom and post-1975 defaults on Official External Creditors='x', SOVEREIGN EXTERNAL DEBT 2: DEFAULT and RESTRUCTURINGS, 1800-2012--Does not include defaults on WWI debt to United States and United Kingdom but includes post-1975 defaults on Official External Creditors=None, Defaults_External_Notes=None, GDP_Weighted_default='x', <='x', Inflation, Annual percentages of average consumer prices=None, Independence='x', Currency Crises='x', Inflation Crises='x')"
      ]
     },
     "execution_count": 30,
     "metadata": {},
     "output_type": "execute_result"
    }
   ],
   "source": [
    "df.head()"
   ]
  },
  {
   "cell_type": "code",
   "execution_count": 31,
   "id": "10ed3e53-0be1-4e45-a214-2710fb8ab370",
   "metadata": {},
   "outputs": [
    {
     "data": {
      "text/plain": [
       "['Case',\n",
       " 'CC3',\n",
       " 'Country',\n",
       " 'Year',\n",
       " 'Banking Crisis ',\n",
       " 'Banking_Crisis_Notes',\n",
       " 'Systemic Crisis',\n",
       " 'Gold Standard',\n",
       " 'exch_usd',\n",
       " 'exch_usd_alt1',\n",
       " 'exch_usd_alt2',\n",
       " 'exch_usd_alt3',\n",
       " 'conversion_notes',\n",
       " 'national currency',\n",
       " 'exch_primary source code',\n",
       " 'exch_sources',\n",
       " 'Domestic_Debt_In_Default',\n",
       " 'Domestic_Debt_ Notes/Sources',\n",
       " 'SOVEREIGN EXTERNAL DEBT 1: DEFAULT and RESTRUCTURINGS, 1800-2012--Does not include defaults on WWI debt to United States and United Kingdom and post-1975 defaults on Official External Creditors',\n",
       " 'SOVEREIGN EXTERNAL DEBT 2: DEFAULT and RESTRUCTURINGS, 1800-2012--Does not include defaults on WWI debt to United States and United Kingdom but includes post-1975 defaults on Official External Creditors',\n",
       " 'Defaults_External_Notes',\n",
       " 'GDP_Weighted_default',\n",
       " '<',\n",
       " 'Inflation, Annual percentages of average consumer prices',\n",
       " 'Independence',\n",
       " 'Currency Crises',\n",
       " 'Inflation Crises']"
      ]
     },
     "execution_count": 31,
     "metadata": {},
     "output_type": "execute_result"
    }
   ],
   "source": [
    "df.columns"
   ]
  },
  {
   "cell_type": "code",
   "execution_count": 44,
   "id": "27b30350-7cdc-4f36-a11e-503269612ecb",
   "metadata": {},
   "outputs": [
    {
     "data": {
      "text/plain": [
       "<function pyspark.sql.functions.year(col: 'ColumnOrName') -> pyspark.sql.column.Column>"
      ]
     },
     "execution_count": 44,
     "metadata": {},
     "output_type": "execute_result"
    }
   ],
   "source": []
  },
  {
   "cell_type": "markdown",
   "id": "21a955e6-2e90-40f0-9817-007090c77bef",
   "metadata": {},
   "source": [
    "Filtrage des données "
   ]
  },
  {
   "cell_type": "code",
   "execution_count": 7,
   "id": "e0bb2297-53aa-45f7-a2c1-38d23d254b89",
   "metadata": {},
   "outputs": [
    {
     "ename": "AnalysisException",
     "evalue": "Syntax error in attribute name: PK\u0003\u0004\u0014\u0000\u0006\u0000\b\u0000\u0000\u0000!\u0000 �2\u0017�\u0001\u0000\u0000\u0002\t\u0000\u0000\u0013\u0000�\u0001[Content_Types].xml ��\u0001(�\u0000\u0002\u0000\u0000\u0000\u0000\u0000\u0000\u0000\u0000\u0000\u0000\u0000\u0000\u0000\u0000\u0000\u0000\u0000\u0000\u0000\u0000\u0000\u0000\u0000\u0000\u0000\u0000\u0000\u0000\u0000\u0000\u0000\u0000\u0000\u0000\u0000\u0000\u0000\u0000\u0000\u0000\u0000\u0000\u0000\u0000\u0000\u0000\u0000\u0000\u0000\u0000\u0000\u0000\u0000\u0000\u0000\u0000\u0000\u0000\u0000\u0000\u0000\u0000\u0000\u0000\u0000\u0000\u0000\u0000\u0000\u0000\u0000\u0000\u0000\u0000\u0000\u0000\u0000\u0000\u0000\u0000\u0000\u0000\u0000\u0000\u0000\u0000\u0000\u0000\u0000\u0000\u0000\u0000\u0000\u0000\u0000\u0000\u0000\u0000\u0000\u0000\u0000\u0000\u0000\u0000\u0000\u0000\u0000\u0000\u0000\u0000\u0000\u0000\u0000\u0000\u0000\u0000\u0000\u0000\u0000\u0000\u0000\u0000\u0000\u0000\u0000\u0000\u0000\u0000\u0000\u0000\u0000\u0000\u0000\u0000\u0000\u0000\u0000\u0000\u0000\u0000\u0000\u0000\u0000\u0000\u0000\u0000\u0000\u0000\u0000\u0000\u0000\u0000\u0000\u0000\u0000\u0000\u0000\u0000\u0000\u0000\u0000\u0000\u0000\u0000\u0000\u0000\u0000\u0000\u0000\u0000\u0000\u0000\u0000\u0000\u0000\u0000\u0000\u0000\u0000\u0000\u0000\u0000\u0000\u0000\u0000\u0000\u0000\u0000\u0000\u0000\u0000\u0000\u0000\u0000\u0000\u0000\u0000\u0000\u0000\u0000\u0000\u0000\u0000\u0000\u0000\u0000\u0000\u0000\u0000\u0000\u0000\u0000\u0000\u0000\u0000\u0000\u0000\u0000\u0000\u0000\u0000\u0000\u0000\u0000\u0000\u0000\u0000\u0000\u0000\u0000\u0000\u0000\u0000\u0000\u0000\u0000\u0000\u0000\u0000\u0000\u0000\u0000\u0000\u0000\u0000\u0000\u0000\u0000\u0000\u0000\u0000\u0000\u0000\u0000\u0000\u0000\u0000\u0000\u0000\u0000\u0000\u0000\u0000\u0000\u0000\u0000\u0000\u0000\u0000\u0000\u0000\u0000\u0000\u0000\u0000\u0000\u0000\u0000\u0000\u0000\u0000\u0000\u0000\u0000\u0000\u0000\u0000\u0000\u0000\u0000\u0000\u0000\u0000\u0000\u0000\u0000\u0000\u0000\u0000\u0000\u0000\u0000\u0000\u0000\u0000\u0000\u0000\u0000\u0000\u0000\u0000\u0000\u0000\u0000\u0000\u0000\u0000\u0000\u0000\u0000\u0000\u0000\u0000\u0000\u0000\u0000\u0000\u0000\u0000\u0000\u0000\u0000\u0000\u0000\u0000\u0000\u0000\u0000\u0000\u0000\u0000\u0000\u0000\u0000\u0000\u0000\u0000\u0000\u0000\u0000\u0000\u0000\u0000\u0000\u0000\u0000\u0000\u0000\u0000\u0000\u0000\u0000\u0000\u0000\u0000\u0000\u0000\u0000\u0000\u0000\u0000\u0000\u0000\u0000\u0000\u0000\u0000\u0000\u0000\u0000\u0000\u0000\u0000\u0000\u0000\u0000\u0000\u0000\u0000\u0000\u0000\u0000\u0000\u0000\u0000\u0000\u0000\u0000\u0000\u0000\u0000\u0000\u0000\u0000\u0000\u0000\u0000\u0000\u0000\u0000\u0000\u0000\u0000\u0000\u0000\u0000\u0000\u0000\u0000\u0000\u0000\u0000\u0000\u0000\u0000\u0000\u0000\u0000\u0000\u0000\u0000\u0000\u0000\u0000\u0000\u0000\u0000\u0000\u0000\u0000\u0000\u0000\u0000\u0000\u0000\u0000\u0000\u0000\u0000\u0000\u0000\u0000\u0000\u0000\u0000\u0000\u0000\u0000�V�n�0\u0010�\u0017�?\b�\u0016\u0016�\u0014(��r\u000ey��6@R�W�Z[��\u0002�v�\u0015'���\u0012z�@�;3;�]hv�5��@@�l���)+�JW+��د���WV`\u0014�\u0016�Y��\u000e�]�?~���<`A�\u0016+���q��\u0001#�t\u001e.",
     "output_type": "error",
     "traceback": [
      "\u001b[0;31m---------------------------------------------------------------------------\u001b[0m",
      "\u001b[0;31mAnalysisException\u001b[0m                         Traceback (most recent call last)",
      "Cell \u001b[0;32mIn[7], line 6\u001b[0m\n\u001b[1;32m      2\u001b[0m african_countries \u001b[38;5;241m=\u001b[39m [\u001b[38;5;124m\"\u001b[39m\u001b[38;5;124mAlgeria\u001b[39m\u001b[38;5;124m\"\u001b[39m, \u001b[38;5;124m\"\u001b[39m\u001b[38;5;124mAngola\u001b[39m\u001b[38;5;124m\"\u001b[39m, \u001b[38;5;124m\"\u001b[39m\u001b[38;5;124mCentral African Republic\u001b[39m\u001b[38;5;124m\"\u001b[39m, \u001b[38;5;124m\"\u001b[39m\u001b[38;5;124mIvory Coast\u001b[39m\u001b[38;5;124m\"\u001b[39m, \u001b[38;5;124m\"\u001b[39m\u001b[38;5;124mEgypt\u001b[39m\u001b[38;5;124m\"\u001b[39m, \u001b[38;5;124m\"\u001b[39m\u001b[38;5;124mKenya\u001b[39m\u001b[38;5;124m\"\u001b[39m, \u001b[38;5;124m\"\u001b[39m\u001b[38;5;124mMauritius\u001b[39m\u001b[38;5;124m\"\u001b[39m, \n\u001b[1;32m      3\u001b[0m                      \u001b[38;5;124m\"\u001b[39m\u001b[38;5;124mMorocco\u001b[39m\u001b[38;5;124m\"\u001b[39m, \u001b[38;5;124m\"\u001b[39m\u001b[38;5;124mNigeria\u001b[39m\u001b[38;5;124m\"\u001b[39m, \u001b[38;5;124m\"\u001b[39m\u001b[38;5;124mSouth Africa\u001b[39m\u001b[38;5;124m\"\u001b[39m, \u001b[38;5;124m\"\u001b[39m\u001b[38;5;124mTunisia\u001b[39m\u001b[38;5;124m\"\u001b[39m, \u001b[38;5;124m\"\u001b[39m\u001b[38;5;124mZambia\u001b[39m\u001b[38;5;124m\"\u001b[39m, \u001b[38;5;124m\"\u001b[39m\u001b[38;5;124mZimbabwe\u001b[39m\u001b[38;5;124m\"\u001b[39m]\n\u001b[1;32m      5\u001b[0m \u001b[38;5;66;03m# Filtrage\u001b[39;00m\n\u001b[0;32m----> 6\u001b[0m filtered_df \u001b[38;5;241m=\u001b[39m df\u001b[38;5;241m.\u001b[39mfilter(df[\u001b[38;5;124m\"\u001b[39m\u001b[38;5;124mCountry\u001b[39m\u001b[38;5;124m\"\u001b[39m]\u001b[38;5;241m.\u001b[39misin(african_countries))\n\u001b[1;32m      8\u001b[0m \u001b[38;5;66;03m# Afficher les résultats filtrés\u001b[39;00m\n\u001b[1;32m      9\u001b[0m filtered_df\u001b[38;5;241m.\u001b[39mshow()\n",
      "File \u001b[0;32m/opt/anaconda3/lib/python3.11/site-packages/pyspark/sql/dataframe.py:3078\u001b[0m, in \u001b[0;36mDataFrame.__getitem__\u001b[0;34m(self, item)\u001b[0m\n\u001b[1;32m   3006\u001b[0m \u001b[38;5;250m\u001b[39m\u001b[38;5;124;03m\"\"\"Returns the column as a :class:`Column`.\u001b[39;00m\n\u001b[1;32m   3007\u001b[0m \n\u001b[1;32m   3008\u001b[0m \u001b[38;5;124;03m.. versionadded:: 1.3.0\u001b[39;00m\n\u001b[0;32m   (...)\u001b[0m\n\u001b[1;32m   3075\u001b[0m \u001b[38;5;124;03m+---+----+\u001b[39;00m\n\u001b[1;32m   3076\u001b[0m \u001b[38;5;124;03m\"\"\"\u001b[39;00m\n\u001b[1;32m   3077\u001b[0m \u001b[38;5;28;01mif\u001b[39;00m \u001b[38;5;28misinstance\u001b[39m(item, \u001b[38;5;28mstr\u001b[39m):\n\u001b[0;32m-> 3078\u001b[0m     jc \u001b[38;5;241m=\u001b[39m \u001b[38;5;28mself\u001b[39m\u001b[38;5;241m.\u001b[39m_jdf\u001b[38;5;241m.\u001b[39mapply(item)\n\u001b[1;32m   3079\u001b[0m     \u001b[38;5;28;01mreturn\u001b[39;00m Column(jc)\n\u001b[1;32m   3080\u001b[0m \u001b[38;5;28;01melif\u001b[39;00m \u001b[38;5;28misinstance\u001b[39m(item, Column):\n",
      "File \u001b[0;32m/opt/anaconda3/lib/python3.11/site-packages/py4j/java_gateway.py:1322\u001b[0m, in \u001b[0;36mJavaMember.__call__\u001b[0;34m(self, *args)\u001b[0m\n\u001b[1;32m   1316\u001b[0m command \u001b[38;5;241m=\u001b[39m proto\u001b[38;5;241m.\u001b[39mCALL_COMMAND_NAME \u001b[38;5;241m+\u001b[39m\\\n\u001b[1;32m   1317\u001b[0m     \u001b[38;5;28mself\u001b[39m\u001b[38;5;241m.\u001b[39mcommand_header \u001b[38;5;241m+\u001b[39m\\\n\u001b[1;32m   1318\u001b[0m     args_command \u001b[38;5;241m+\u001b[39m\\\n\u001b[1;32m   1319\u001b[0m     proto\u001b[38;5;241m.\u001b[39mEND_COMMAND_PART\n\u001b[1;32m   1321\u001b[0m answer \u001b[38;5;241m=\u001b[39m \u001b[38;5;28mself\u001b[39m\u001b[38;5;241m.\u001b[39mgateway_client\u001b[38;5;241m.\u001b[39msend_command(command)\n\u001b[0;32m-> 1322\u001b[0m return_value \u001b[38;5;241m=\u001b[39m get_return_value(\n\u001b[1;32m   1323\u001b[0m     answer, \u001b[38;5;28mself\u001b[39m\u001b[38;5;241m.\u001b[39mgateway_client, \u001b[38;5;28mself\u001b[39m\u001b[38;5;241m.\u001b[39mtarget_id, \u001b[38;5;28mself\u001b[39m\u001b[38;5;241m.\u001b[39mname)\n\u001b[1;32m   1325\u001b[0m \u001b[38;5;28;01mfor\u001b[39;00m temp_arg \u001b[38;5;129;01min\u001b[39;00m temp_args:\n\u001b[1;32m   1326\u001b[0m     \u001b[38;5;28;01mif\u001b[39;00m \u001b[38;5;28mhasattr\u001b[39m(temp_arg, \u001b[38;5;124m\"\u001b[39m\u001b[38;5;124m_detach\u001b[39m\u001b[38;5;124m\"\u001b[39m):\n",
      "File \u001b[0;32m/opt/anaconda3/lib/python3.11/site-packages/pyspark/errors/exceptions/captured.py:185\u001b[0m, in \u001b[0;36mcapture_sql_exception.<locals>.deco\u001b[0;34m(*a, **kw)\u001b[0m\n\u001b[1;32m    181\u001b[0m converted \u001b[38;5;241m=\u001b[39m convert_exception(e\u001b[38;5;241m.\u001b[39mjava_exception)\n\u001b[1;32m    182\u001b[0m \u001b[38;5;28;01mif\u001b[39;00m \u001b[38;5;129;01mnot\u001b[39;00m \u001b[38;5;28misinstance\u001b[39m(converted, UnknownException):\n\u001b[1;32m    183\u001b[0m     \u001b[38;5;66;03m# Hide where the exception came from that shows a non-Pythonic\u001b[39;00m\n\u001b[1;32m    184\u001b[0m     \u001b[38;5;66;03m# JVM exception message.\u001b[39;00m\n\u001b[0;32m--> 185\u001b[0m     \u001b[38;5;28;01mraise\u001b[39;00m converted \u001b[38;5;28;01mfrom\u001b[39;00m \u001b[38;5;28;01mNone\u001b[39;00m\n\u001b[1;32m    186\u001b[0m \u001b[38;5;28;01melse\u001b[39;00m:\n\u001b[1;32m    187\u001b[0m     \u001b[38;5;28;01mraise\u001b[39;00m\n",
      "\u001b[0;31mAnalysisException\u001b[0m: Syntax error in attribute name: PK\u0003\u0004\u0014\u0000\u0006\u0000\b\u0000\u0000\u0000!\u0000 �2\u0017�\u0001\u0000\u0000\u0002\t\u0000\u0000\u0013\u0000�\u0001[Content_Types].xml ��\u0001(�\u0000\u0002\u0000\u0000\u0000\u0000\u0000\u0000\u0000\u0000\u0000\u0000\u0000\u0000\u0000\u0000\u0000\u0000\u0000\u0000\u0000\u0000\u0000\u0000\u0000\u0000\u0000\u0000\u0000\u0000\u0000\u0000\u0000\u0000\u0000\u0000\u0000\u0000\u0000\u0000\u0000\u0000\u0000\u0000\u0000\u0000\u0000\u0000\u0000\u0000\u0000\u0000\u0000\u0000\u0000\u0000\u0000\u0000\u0000\u0000\u0000\u0000\u0000\u0000\u0000\u0000\u0000\u0000\u0000\u0000\u0000\u0000\u0000\u0000\u0000\u0000\u0000\u0000\u0000\u0000\u0000\u0000\u0000\u0000\u0000\u0000\u0000\u0000\u0000\u0000\u0000\u0000\u0000\u0000\u0000\u0000\u0000\u0000\u0000\u0000\u0000\u0000\u0000\u0000\u0000\u0000\u0000\u0000\u0000\u0000\u0000\u0000\u0000\u0000\u0000\u0000\u0000\u0000\u0000\u0000\u0000\u0000\u0000\u0000\u0000\u0000\u0000\u0000\u0000\u0000\u0000\u0000\u0000\u0000\u0000\u0000\u0000\u0000\u0000\u0000\u0000\u0000\u0000\u0000\u0000\u0000\u0000\u0000\u0000\u0000\u0000\u0000\u0000\u0000\u0000\u0000\u0000\u0000\u0000\u0000\u0000\u0000\u0000\u0000\u0000\u0000\u0000\u0000\u0000\u0000\u0000\u0000\u0000\u0000\u0000\u0000\u0000\u0000\u0000\u0000\u0000\u0000\u0000\u0000\u0000\u0000\u0000\u0000\u0000\u0000\u0000\u0000\u0000\u0000\u0000\u0000\u0000\u0000\u0000\u0000\u0000\u0000\u0000\u0000\u0000\u0000\u0000\u0000\u0000\u0000\u0000\u0000\u0000\u0000\u0000\u0000\u0000\u0000\u0000\u0000\u0000\u0000\u0000\u0000\u0000\u0000\u0000\u0000\u0000\u0000\u0000\u0000\u0000\u0000\u0000\u0000\u0000\u0000\u0000\u0000\u0000\u0000\u0000\u0000\u0000\u0000\u0000\u0000\u0000\u0000\u0000\u0000\u0000\u0000\u0000\u0000\u0000\u0000\u0000\u0000\u0000\u0000\u0000\u0000\u0000\u0000\u0000\u0000\u0000\u0000\u0000\u0000\u0000\u0000\u0000\u0000\u0000\u0000\u0000\u0000\u0000\u0000\u0000\u0000\u0000\u0000\u0000\u0000\u0000\u0000\u0000\u0000\u0000\u0000\u0000\u0000\u0000\u0000\u0000\u0000\u0000\u0000\u0000\u0000\u0000\u0000\u0000\u0000\u0000\u0000\u0000\u0000\u0000\u0000\u0000\u0000\u0000\u0000\u0000\u0000\u0000\u0000\u0000\u0000\u0000\u0000\u0000\u0000\u0000\u0000\u0000\u0000\u0000\u0000\u0000\u0000\u0000\u0000\u0000\u0000\u0000\u0000\u0000\u0000\u0000\u0000\u0000\u0000\u0000\u0000\u0000\u0000\u0000\u0000\u0000\u0000\u0000\u0000\u0000\u0000\u0000\u0000\u0000\u0000\u0000\u0000\u0000\u0000\u0000\u0000\u0000\u0000\u0000\u0000\u0000\u0000\u0000\u0000\u0000\u0000\u0000\u0000\u0000\u0000\u0000\u0000\u0000\u0000\u0000\u0000\u0000\u0000\u0000\u0000\u0000\u0000\u0000\u0000\u0000\u0000\u0000\u0000\u0000\u0000\u0000\u0000\u0000\u0000\u0000\u0000\u0000\u0000\u0000\u0000\u0000\u0000\u0000\u0000\u0000\u0000\u0000\u0000\u0000\u0000\u0000\u0000\u0000\u0000\u0000\u0000\u0000\u0000\u0000\u0000\u0000\u0000\u0000\u0000\u0000\u0000\u0000\u0000\u0000\u0000\u0000\u0000\u0000\u0000\u0000\u0000\u0000\u0000\u0000\u0000\u0000\u0000\u0000\u0000\u0000\u0000�V�n�0\u0010�\u0017�?\b�\u0016\u0016�\u0014(��r\u000ey��6@R�W�Z[��\u0002�v�\u0015'���\u0012z�@�;3;�]hv�5��@@�l���)+�JW+��د���WV`\u0014�\u0016�Y��\u000e�]�?~���<`A�\u0016+���q��\u0001#�t\u001e."
     ]
    }
   ],
   "source": [
    "# Liste des pays africains spécifiques\n",
    "african_countries = [\"Algeria\", \"Angola\", \"Central African Republic\", \"Ivory Coast\", \"Egypt\", \"Kenya\", \"Mauritius\", \n",
    "                     \"Morocco\", \"Nigeria\", \"South Africa\", \"Tunisia\", \"Zambia\", \"Zimbabwe\"]\n",
    "\n",
    "# Filtrage\n",
    "filtered_df = df.filter(df[\"Country\"].isin(african_countries))\n",
    "\n",
    "# Afficher les résultats filtrés\n",
    "filtered_df.show()"
   ]
  },
  {
   "cell_type": "markdown",
   "id": "57e4b28b-50b9-4dea-a443-c4a5fd4a89e5",
   "metadata": {},
   "source": [
    "Pays avec le plus de crises systèmes entre 1970 et 1997"
   ]
  },
  {
   "cell_type": "code",
   "execution_count": null,
   "id": "11ba9d5d-4dcb-4f36-bc62-ae23c02a6e5e",
   "metadata": {},
   "outputs": [],
   "source": []
  }
 ],
 "metadata": {
  "kernelspec": {
   "display_name": "Python 3 (ipykernel)",
   "language": "python",
   "name": "python3"
  },
  "language_info": {
   "codemirror_mode": {
    "name": "ipython",
    "version": 3
   },
   "file_extension": ".py",
   "mimetype": "text/x-python",
   "name": "python",
   "nbconvert_exporter": "python",
   "pygments_lexer": "ipython3",
   "version": "3.11.7"
  }
 },
 "nbformat": 4,
 "nbformat_minor": 5
}
