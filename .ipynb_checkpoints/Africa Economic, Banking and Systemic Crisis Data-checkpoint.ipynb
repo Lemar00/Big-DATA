{
 "cells": [
  {
   "cell_type": "markdown",
   "id": "9f3ae573",
   "metadata": {},
   "source": [
    "<div style=\"display: flex; align-items: center;\">\n",
    "  <div>\n",
    "    <h3>Ndaraw FALL</h3>\n",
    "    <h3>Mouhamadou Lamine MAR</h3>\n",
    "  </div>\n",
    "  <div style=\"margin-left: auto;display: flex; align-items: center;\">\n",
    "    <div style=\"height: 80px; width: 80px; overflow: hidden;\">  \n",
    "        <img src=\"ndaraw.jpg\" style=\"width: 100%; height: 100%; object-fit: cover; border-radius: 20px; margin-right: 15px;\">\n",
    "    </div>\n",
    "    <div style=\"height: 80px; width: 80px; overflow: hidden;\">  \n",
    "        <img src=\"mar.jpg\" style=\"width: 100%; height: 100%; object-fit: cover; border-radius: 20px;\">\n",
    "    </div>\n",
    "  </div>\n",
    "</div>\n",
    "\n",
    "<h1 style=\"text-align: center;\"><u>TP Big Data</u></h1>\n",
    "<h2><font><u>Archive 7:</u></font><font color='#B666D2'> Africa Economic, Banking and Systemic Crisis Data</font></h2>\n"
   ]
  },
  {
   "cell_type": "markdown",
   "id": "51fcc9ad",
   "metadata": {},
   "source": [
    "## **Introduction**\n",
    "\n",
    "Ce TP vise à analyser les données économiques et financières des crises survenues dans 13 pays africains de 1860 à 2014. Les crises étudiées incluent les crises bancaires, les crises de la dette, les crises financières, les crises inflationnistes et les crises systémiques. L'objectif est de répondre à diverses questions analytiques en utilisant PySpark et Spark SQL pour manipuler et interroger les données.\n",
    "\n",
    "## **Le Dataset**\n",
    "Le dataset utilisé pour cette analyse couvre les crises économiques et financières dans les pays suivants : Algérie, Angola, République Centrafricaine, Côte d'Ivoire, Égypte, Kenya, Maurice, Maroc, Nigeria, Afrique du Sud, Tunisie, Zambie et Zimbabwe. Il s'étend de 1860 à 2014 et comprend des informations détaillées sur différents types de crises et des variables économiques clés. Les colonnes principales du dataset sont :\n",
    "- <b>country :</b> le nom du pays,\n",
    "- <b>year :</b> l'année,\n",
    "- <b>systemic_crisis :</b> indique si une crise systémique a eu lieu (1 pour oui, 0 pour non),\n",
    "- <b>exch_usd :</b> le taux de change par rapport au dollar américain (USD),\n",
    "- <b>domestic_debt_in_default :</b> indique si la dette intérieure était en défaut,\n",
    "- <b>sovereign_external_debt_default :</b> indique si la dette extérieure souveraine était en défaut,\n",
    "- <b>gdp_weighted_default :</b> le défaut pondéré par le PIB,\n",
    "- <b>inflation_annual_cpi :</b> l'inflation annuelle en pourcentage des prix à la consommation,\n",
    "- <b>independence :</b> l'année d'indépendance,\n",
    "- <b>currency_crises :</b> indique si une crise de change a eu lieu,\n",
    "- <b>inflation_crises :</b> indique si une crise inflationniste a eu lieu,\n",
    "- <b>banking_crisis :</b> indique si une crise bancaire a eu lieu\n",
    "\n",
    "\n",
    "\n",
    "## **Objectifs**\n",
    "Les objectifs spécifiques de cette analyse sont les suivants :\n",
    "\n",
    "<b>1.</b> Identifier le pays ayant connu le plus de crises systémiques entre 1970 et 1997.<br>\n",
    "<b>2.</b> Calculer le nombre moyen de crises systémiques par pays sur toute la période d'observation.<br>\n",
    "<b>3.</b> Identifier les trois pays ayant les plus grands taux de change vis-à-vis du dollar (USD).<br>\n",
    "<b>4.</b> Trouver le pays avec le taux d'inflation annuel (CPI) le plus faible en 2004.\n",
    "\n",
    "Ces objectifs permettent de comprendre les différents aspects des crises économiques en Afrique Cette approche fournit une vue d'ensemble des crises financières et économiques sur le continent, facilitant ainsi l'élaboration de politiques pour de futures crises."
   ]
  },
  {
   "cell_type": "markdown",
   "id": "fafa7761",
   "metadata": {},
   "source": [
    "## **Importation des Bibliothèques et Configuration de Spark**"
   ]
  },
  {
   "cell_type": "code",
   "execution_count": 1,
   "id": "7c99b22e",
   "metadata": {},
   "outputs": [],
   "source": [
    "import findspark\n",
    "from pyspark.sql import SparkSession\n",
    "from pyspark.sql import SQLContext\n",
    "from pyspark.sql.functions import col, count, avg, desc, max as max_"
   ]
  },
  {
   "cell_type": "code",
   "execution_count": 2,
   "id": "fd64b426",
   "metadata": {},
   "outputs": [
    {
     "data": {
      "text/plain": [
       "'D:\\\\Downloads\\\\spark-3.5.1-bin-hadoop3'"
      ]
     },
     "execution_count": 2,
     "metadata": {},
     "output_type": "execute_result"
    }
   ],
   "source": [
    "findspark.find()"
   ]
  },
  {
   "cell_type": "markdown",
   "id": "cd72b668",
   "metadata": {},
   "source": [
    "Il est important de noter que Spark a déjà été installé sur le système. Par conséquent, nous n'avons pas besoin de définir manuellement les variables d'environnement SPARK_HOME et JAVA_HOME, car findspark se charge de localiser l'installation de Spark et de configurer les chemins nécessaires.\n",
    "\n",
    "Nous commençons par importer les bibliothèques nécessaires pour le traitement des données avec <b>PySpark</b>. <b>SparkSession</b> est le point d'entrée principal pour utiliser Spark, et <b>SQLContext</b> permet de créer des requêtes SQL. Nous importons aussi plusieurs fonctions de <b>pyspark.sql.functions</b> pour les opérations courantes telles que col, count, avg, desc et max."
   ]
  },
  {
   "cell_type": "markdown",
   "id": "8c0062cb",
   "metadata": {},
   "source": [
    "## **Initialisation de Spark**"
   ]
  },
  {
   "cell_type": "code",
   "execution_count": 4,
   "id": "4c4381e1",
   "metadata": {},
   "outputs": [],
   "source": [
    "spark = SparkSession.builder\\\n",
    "        .master(\"local\")\\\n",
    "        .appName(\"AfricaEconomicCrisisAnalysis\")\\\n",
    "        .config('spark.ui.port', '4050')\\\n",
    "        .getOrCreate()\n",
    "\n",
    "sqlContext = SQLContext(spark)"
   ]
  },
  {
   "cell_type": "markdown",
   "id": "d3d74851",
   "metadata": {},
   "source": [
    "Ensuite, nous créons une SparkSession en définissant le mode local et en attribuant un nom à l'application. La configuration <b>spark.ui.port</b> permet de spécifier le port utilisé pour l'interface utilisateur de Spark."
   ]
  },
  {
   "cell_type": "markdown",
   "id": "4ef9e2ae",
   "metadata": {},
   "source": [
    "## **Création du Contexte SQL**\n",
    "\n",
    "Dans cette étape, nous établissons le contexte nécessaire pour l'analyse des données en configurant Spark et en préparant les données.\n",
    "\n",
    "#### **1. Configuration du Contexte Spark :**"
   ]
  },
  {
   "cell_type": "code",
   "execution_count": 5,
   "id": "1eea9cf6",
   "metadata": {},
   "outputs": [],
   "source": [
    "#spark\n",
    "sc = spark.sparkContext\n",
    "sc.setLogLevel(\"ERROR\")"
   ]
  },
  {
   "cell_type": "markdown",
   "id": "3883a671",
   "metadata": {},
   "source": [
    "Nous accédons au contexte Spark via <b>spark.sparkContext</b> et ajustons le niveau de log avec <b>sc.setLogLevel(\"ERROR\")</b> pour filtrer les messages de log non essentiels et ne conserver que les erreurs critiques.\n",
    "\n",
    "#### **2. Chargement des Données :**"
   ]
  },
  {
   "cell_type": "code",
   "execution_count": 6,
   "id": "fa6f5a53",
   "metadata": {},
   "outputs": [],
   "source": [
    "df = spark.read.csv(\"african_crises.csv\", header=True, inferSchema=True)\n",
    "df.createOrReplaceTempView('df')"
   ]
  },
  {
   "cell_type": "markdown",
   "id": "8f0a424d",
   "metadata": {},
   "source": [
    "Nous chargeons le fichier CSV african_crises.csv dans un DataFrame Spark avec <b>spark.read.csv()</b>. L'option <b>header=True</b> indique que la première ligne du fichier contient les noms des colonnes, tandis que <b>inferSchema=True</b> permet à Spark de détecter automatiquement le type de chaque colonne."
   ]
  },
  {
   "cell_type": "markdown",
   "id": "5a702562",
   "metadata": {},
   "source": [
    "<b>3. Création d'une Vue Temporaire :</b>"
   ]
  },
  {
   "cell_type": "code",
   "execution_count": 7,
   "id": "aa2ed68b",
   "metadata": {},
   "outputs": [
    {
     "name": "stdout",
     "output_type": "stream",
     "text": [
      "root\n",
      " |-- case: integer (nullable = true)\n",
      " |-- cc3: string (nullable = true)\n",
      " |-- country: string (nullable = true)\n",
      " |-- year: integer (nullable = true)\n",
      " |-- systemic_crisis: integer (nullable = true)\n",
      " |-- exch_usd: double (nullable = true)\n",
      " |-- domestic_debt_in_default: integer (nullable = true)\n",
      " |-- sovereign_external_debt_default: integer (nullable = true)\n",
      " |-- gdp_weighted_default: double (nullable = true)\n",
      " |-- inflation_annual_cpi: double (nullable = true)\n",
      " |-- independence: integer (nullable = true)\n",
      " |-- currency_crises: integer (nullable = true)\n",
      " |-- inflation_crises: integer (nullable = true)\n",
      " |-- banking_crisis: string (nullable = true)\n",
      "\n"
     ]
    }
   ],
   "source": [
    "df.printSchema()"
   ]
  },
  {
   "cell_type": "markdown",
   "id": "02005d14",
   "metadata": {},
   "source": [
    "Nous affichons le schéma du DataFrame avec <b>df.printSchema()</b> pour vérifier la structure des données. Cela nous permet de voir les noms des colonnes, leurs types de données, et si des valeurs peuvent être nulles."
   ]
  },
  {
   "cell_type": "code",
   "execution_count": 8,
   "id": "8921ba0d",
   "metadata": {},
   "outputs": [
    {
     "data": {
      "text/html": [
       "<div>\n",
       "<style scoped>\n",
       "    .dataframe tbody tr th:only-of-type {\n",
       "        vertical-align: middle;\n",
       "    }\n",
       "\n",
       "    .dataframe tbody tr th {\n",
       "        vertical-align: top;\n",
       "    }\n",
       "\n",
       "    .dataframe thead th {\n",
       "        text-align: right;\n",
       "    }\n",
       "</style>\n",
       "<table border=\"1\" class=\"dataframe\">\n",
       "  <thead>\n",
       "    <tr style=\"text-align: right;\">\n",
       "      <th></th>\n",
       "      <th>case</th>\n",
       "      <th>cc3</th>\n",
       "      <th>country</th>\n",
       "      <th>year</th>\n",
       "      <th>systemic_crisis</th>\n",
       "      <th>exch_usd</th>\n",
       "      <th>domestic_debt_in_default</th>\n",
       "      <th>sovereign_external_debt_default</th>\n",
       "      <th>gdp_weighted_default</th>\n",
       "      <th>inflation_annual_cpi</th>\n",
       "      <th>independence</th>\n",
       "      <th>currency_crises</th>\n",
       "      <th>inflation_crises</th>\n",
       "      <th>banking_crisis</th>\n",
       "    </tr>\n",
       "  </thead>\n",
       "  <tbody>\n",
       "    <tr>\n",
       "      <th>0</th>\n",
       "      <td>1</td>\n",
       "      <td>DZA</td>\n",
       "      <td>Algeria</td>\n",
       "      <td>1870</td>\n",
       "      <td>1</td>\n",
       "      <td>0.052264</td>\n",
       "      <td>0</td>\n",
       "      <td>0</td>\n",
       "      <td>0.0</td>\n",
       "      <td>3.441456</td>\n",
       "      <td>0</td>\n",
       "      <td>0</td>\n",
       "      <td>0</td>\n",
       "      <td>crisis</td>\n",
       "    </tr>\n",
       "    <tr>\n",
       "      <th>1</th>\n",
       "      <td>1</td>\n",
       "      <td>DZA</td>\n",
       "      <td>Algeria</td>\n",
       "      <td>1871</td>\n",
       "      <td>0</td>\n",
       "      <td>0.052798</td>\n",
       "      <td>0</td>\n",
       "      <td>0</td>\n",
       "      <td>0.0</td>\n",
       "      <td>14.149140</td>\n",
       "      <td>0</td>\n",
       "      <td>0</td>\n",
       "      <td>0</td>\n",
       "      <td>no_crisis</td>\n",
       "    </tr>\n",
       "    <tr>\n",
       "      <th>2</th>\n",
       "      <td>1</td>\n",
       "      <td>DZA</td>\n",
       "      <td>Algeria</td>\n",
       "      <td>1872</td>\n",
       "      <td>0</td>\n",
       "      <td>0.052274</td>\n",
       "      <td>0</td>\n",
       "      <td>0</td>\n",
       "      <td>0.0</td>\n",
       "      <td>-3.718593</td>\n",
       "      <td>0</td>\n",
       "      <td>0</td>\n",
       "      <td>0</td>\n",
       "      <td>no_crisis</td>\n",
       "    </tr>\n",
       "    <tr>\n",
       "      <th>3</th>\n",
       "      <td>1</td>\n",
       "      <td>DZA</td>\n",
       "      <td>Algeria</td>\n",
       "      <td>1873</td>\n",
       "      <td>0</td>\n",
       "      <td>0.051680</td>\n",
       "      <td>0</td>\n",
       "      <td>0</td>\n",
       "      <td>0.0</td>\n",
       "      <td>11.203897</td>\n",
       "      <td>0</td>\n",
       "      <td>0</td>\n",
       "      <td>0</td>\n",
       "      <td>no_crisis</td>\n",
       "    </tr>\n",
       "    <tr>\n",
       "      <th>4</th>\n",
       "      <td>1</td>\n",
       "      <td>DZA</td>\n",
       "      <td>Algeria</td>\n",
       "      <td>1874</td>\n",
       "      <td>0</td>\n",
       "      <td>0.051308</td>\n",
       "      <td>0</td>\n",
       "      <td>0</td>\n",
       "      <td>0.0</td>\n",
       "      <td>-3.848561</td>\n",
       "      <td>0</td>\n",
       "      <td>0</td>\n",
       "      <td>0</td>\n",
       "      <td>no_crisis</td>\n",
       "    </tr>\n",
       "  </tbody>\n",
       "</table>\n",
       "</div>"
      ],
      "text/plain": [
       "   case  cc3  country  year  systemic_crisis  exch_usd  \\\n",
       "0     1  DZA  Algeria  1870                1  0.052264   \n",
       "1     1  DZA  Algeria  1871                0  0.052798   \n",
       "2     1  DZA  Algeria  1872                0  0.052274   \n",
       "3     1  DZA  Algeria  1873                0  0.051680   \n",
       "4     1  DZA  Algeria  1874                0  0.051308   \n",
       "\n",
       "   domestic_debt_in_default  sovereign_external_debt_default  \\\n",
       "0                         0                                0   \n",
       "1                         0                                0   \n",
       "2                         0                                0   \n",
       "3                         0                                0   \n",
       "4                         0                                0   \n",
       "\n",
       "   gdp_weighted_default  inflation_annual_cpi  independence  currency_crises  \\\n",
       "0                   0.0              3.441456             0                0   \n",
       "1                   0.0             14.149140             0                0   \n",
       "2                   0.0             -3.718593             0                0   \n",
       "3                   0.0             11.203897             0                0   \n",
       "4                   0.0             -3.848561             0                0   \n",
       "\n",
       "   inflation_crises banking_crisis  \n",
       "0                 0         crisis  \n",
       "1                 0      no_crisis  \n",
       "2                 0      no_crisis  \n",
       "3                 0      no_crisis  \n",
       "4                 0      no_crisis  "
      ]
     },
     "metadata": {},
     "output_type": "display_data"
    },
    {
     "data": {
      "text/plain": [
       "1059"
      ]
     },
     "execution_count": 8,
     "metadata": {},
     "output_type": "execute_result"
    }
   ],
   "source": [
    "import pandas as pd\n",
    "display(df.limit(5).toPandas())\n",
    "df.count()"
   ]
  },
  {
   "cell_type": "markdown",
   "id": "2a363369",
   "metadata": {},
   "source": [
    "Nous affichons les cinq premières lignes du DataFrame avec <b>df.show(5)</b> pour avoir un aperçu des données. Ensuite, nous comptons le nombre total de lignes dans le DataFrame avec <b>df.count()</b>, ce qui nous indique qu'il y a 1059 enregistrements dans le fichier CSV."
   ]
  },
  {
   "cell_type": "markdown",
   "id": "55810f1e",
   "metadata": {},
   "source": [
    "## **Résultats et Analyse**\n",
    "\n",
    "Pour chaque question posée, nous allons utiliser deux méthodes pour obtenir les résultats : l'API DataFrame de PySpark et les requêtes SQL. \n",
    "\n",
    "- <b>API DataFrame de PySpark :</b> Une approche programmée où nous manipulons les données en utilisant des opérations comme filter, groupBy, et agg pour effectuer des calculs et extraire des informations.\n",
    "- <b>Requêtes SQL :</b> Une méthode basée sur des commandes SQL pour interroger directement les données avec des clauses comme SELECT, WHERE, et GROUP BY pour obtenir les mêmes résultats.\n",
    "\n",
    "Les résultats obtenus avec ces deux approches sont ensuite interprétés pour fournir une analyse approfondie des données."
   ]
  },
  {
   "cell_type": "markdown",
   "id": "c6b44f59",
   "metadata": {},
   "source": [
    "### **1. Identification du pays ayant connu le plus de crises systémiques entre 1970 et 1997 :**\n",
    "\n",
    "Pour identifier le pays avec le plus grand nombre de crises systémiques entre 1970 et 1997, nous avons filtré les données pour cette période et compté les occurrences des crises systémiques par pays.\n",
    "#### **Méthode API DataFrame :**"
   ]
  },
  {
   "cell_type": "code",
   "execution_count": 9,
   "id": "e67002da",
   "metadata": {},
   "outputs": [
    {
     "name": "stdout",
     "output_type": "stream",
     "text": [
      "+--------------------+------------+\n",
      "|             country|crisis_count|\n",
      "+--------------------+------------+\n",
      "|Central African R...|          17|\n",
      "+--------------------+------------+\n",
      "\n"
     ]
    }
   ],
   "source": [
    "most_systemic_crises_df = df.filter((col(\"year\") >= 1970) & (col(\"year\") <= 1997) & (col(\"systemic_crisis\") == 1))\\\n",
    "  .groupBy(\"country\")\\\n",
    "  .agg(count(\"systemic_crisis\").alias(\"crisis_count\"))\\²\n",
    "  .orderBy(desc(\"crisis_count\"))\\\n",
    "  .limit(1)\n",
    "\n",
    "most_systemic_crises_df.show()"
   ]
  },
  {
   "cell_type": "markdown",
   "id": "55742ce3",
   "metadata": {},
   "source": [
    "#### **Méthode SQL :**"
   ]
  },
  {
   "cell_type": "code",
   "execution_count": 10,
   "id": "8bb4c2f4",
   "metadata": {},
   "outputs": [
    {
     "name": "stdout",
     "output_type": "stream",
     "text": [
      "+--------------------+------------+\n",
      "|             country|crisis_count|\n",
      "+--------------------+------------+\n",
      "|Central African R...|          17|\n",
      "+--------------------+------------+\n",
      "\n"
     ]
    }
   ],
   "source": [
    "most_systemic_crises_sql = spark.sql(\"\"\"\n",
    "    SELECT country, COUNT(systemic_crisis) AS crisis_count\n",
    "    FROM df\n",
    "    WHERE year BETWEEN 1970 AND 1997 AND systemic_crisis = 1\n",
    "    GROUP BY country\n",
    "    ORDER BY crisis_count DESC\n",
    "    LIMIT 1\n",
    "\"\"\")\n",
    "\n",
    "most_systemic_crises_sql.show()"
   ]
  },
  {
   "cell_type": "markdown",
   "id": "e8ce282b",
   "metadata": {},
   "source": [
    "#### **Interprétation :**\n",
    "\n",
    "La <b>République Centrafricaine</b> est le pays ayant connu le plus grand nombre de crises systémiques durant cette période, avec un total de <b>17 crises</b>. Ce résultat reflète une instabilité économique importante qui peut être liée à des problèmes politiques, économiques ou institutionnels graves."
   ]
  },
  {
   "cell_type": "markdown",
   "id": "c5c58697",
   "metadata": {},
   "source": [
    "### **2. Calcul du nombre moyen de crises systémiques par pays :**\n",
    "\n",
    "Pour calculer le nombre moyen de crises systémiques par pays sur toute la période d’observation, nous avons calculé la moyenne des crises systémiques pour chaque pays.\n",
    "\n",
    "#### **Méthode API DataFrame :**"
   ]
  },
  {
   "cell_type": "code",
   "execution_count": 11,
   "id": "97300416",
   "metadata": {},
   "outputs": [
    {
     "name": "stdout",
     "output_type": "stream",
     "text": [
      "+--------------------+--------------------+\n",
      "|             country|    avg_crisis_count|\n",
      "+--------------------+--------------------+\n",
      "|         Ivory Coast| 0.06349206349206349|\n",
      "|             Algeria|0.047058823529411764|\n",
      "|              Angola|                 0.0|\n",
      "|             Nigeria| 0.16666666666666666|\n",
      "|Central African R...|  0.3275862068965517|\n",
      "|             Morocco| 0.02666666666666667|\n",
      "|            Zimbabwe| 0.16666666666666666|\n",
      "|             Tunisia| 0.06666666666666667|\n",
      "|              Zambia| 0.05555555555555555|\n",
      "|               Kenya| 0.19402985074626866|\n",
      "|               Egypt| 0.03870967741935484|\n",
      "|        South Africa|                 0.0|\n",
      "|           Mauritius|                 0.0|\n",
      "+--------------------+--------------------+\n",
      "\n"
     ]
    }
   ],
   "source": [
    "avg_systemic_crises_df = df.groupBy(\"country\")\\\n",
    "  .agg(avg(\"systemic_crisis\").alias(\"avg_crisis_count\"))\n",
    "\n",
    "avg_systemic_crises_df.show()"
   ]
  },
  {
   "cell_type": "markdown",
   "id": "da0aa64a",
   "metadata": {},
   "source": [
    "#### **Méthode SQL :**"
   ]
  },
  {
   "cell_type": "code",
   "execution_count": 12,
   "id": "15f1513a",
   "metadata": {},
   "outputs": [
    {
     "name": "stdout",
     "output_type": "stream",
     "text": [
      "+--------------------+--------------------+\n",
      "|             country|    avg_crisis_count|\n",
      "+--------------------+--------------------+\n",
      "|         Ivory Coast| 0.06349206349206349|\n",
      "|             Algeria|0.047058823529411764|\n",
      "|              Angola|                 0.0|\n",
      "|             Nigeria| 0.16666666666666666|\n",
      "|Central African R...|  0.3275862068965517|\n",
      "|             Morocco| 0.02666666666666667|\n",
      "|            Zimbabwe| 0.16666666666666666|\n",
      "|             Tunisia| 0.06666666666666667|\n",
      "|              Zambia| 0.05555555555555555|\n",
      "|               Kenya| 0.19402985074626866|\n",
      "|               Egypt| 0.03870967741935484|\n",
      "|        South Africa|                 0.0|\n",
      "|           Mauritius|                 0.0|\n",
      "+--------------------+--------------------+\n",
      "\n"
     ]
    }
   ],
   "source": [
    "avg_systemic_crises_sql = spark.sql(\"\"\"\n",
    "    SELECT country, AVG(systemic_crisis) AS avg_crisis_count\n",
    "    FROM df\n",
    "    GROUP BY country\n",
    "\"\"\")\n",
    "\n",
    "avg_systemic_crises_sql.show()"
   ]
  },
  {
   "cell_type": "markdown",
   "id": "7f08d5c8",
   "metadata": {},
   "source": [
    "#### **Interprétation :**\n",
    "\n",
    "Le taux moyen de crises systémiques par pays montre que la <b>République Centrafricaine</b> a un taux de crise moyen de <b>0.33</b>, signifiant qu’en moyenne, le pays a connu une crise systémique tous les trois (3) ans. D’autres pays, comme le <b>Nigeria</b> et le <b>Kenya</b>, ont également des taux relativement élevés, ce qui indique une fréquence plus élevée des crises systémiques dans ces pays par rapport aux autres."
   ]
  },
  {
   "cell_type": "markdown",
   "id": "45a85fbb",
   "metadata": {},
   "source": [
    "### **3. Identification des trois pays ayant les plus grands taux de change vis-à-vis du dollar (USD) :**\n",
    "\n",
    "Pour déterminer les trois pays avec les taux de change les plus élevés par rapport au dollar américain, nous avons extrait les trois plus grands taux de change de notre dataset en s'assurant qu'il s'agisse de pays différents.\n",
    "\n",
    "#### **Méthode API DataFrame :**"
   ]
  },
  {
   "cell_type": "code",
   "execution_count": 13,
   "id": "8bba6505",
   "metadata": {},
   "outputs": [
    {
     "name": "stdout",
     "output_type": "stream",
     "text": [
      "+--------------------+------------+\n",
      "|             country|max_exch_usd|\n",
      "+--------------------+------------+\n",
      "|Central African R...| 744.3061387|\n",
      "|         Ivory Coast|       616.0|\n",
      "|            Zimbabwe|       378.2|\n",
      "+--------------------+------------+\n",
      "\n"
     ]
    }
   ],
   "source": [
    "top_3_exch_usd_df = df.groupBy(\"country\")\\\n",
    "  .agg(max_(\"exch_usd\").alias(\"max_exch_usd\"))\\\n",
    "  .orderBy(desc(\"max_exch_usd\"))\\\n",
    "  .limit(3)\n",
    "\n",
    "top_3_exch_usd_df.show()"
   ]
  },
  {
   "cell_type": "markdown",
   "id": "75eddbb4",
   "metadata": {},
   "source": [
    "#### **Méthode SQL :**"
   ]
  },
  {
   "cell_type": "code",
   "execution_count": 14,
   "id": "913a897c",
   "metadata": {},
   "outputs": [
    {
     "name": "stdout",
     "output_type": "stream",
     "text": [
      "+--------------------+------------+\n",
      "|             country|max_exch_usd|\n",
      "+--------------------+------------+\n",
      "|Central African R...| 744.3061387|\n",
      "|         Ivory Coast|       616.0|\n",
      "|            Zimbabwe|       378.2|\n",
      "+--------------------+------------+\n",
      "\n"
     ]
    }
   ],
   "source": [
    "top_3_exch_usd_sql = spark.sql(\"\"\"\n",
    "    SELECT country, MAX(exch_usd) AS max_exch_usd\n",
    "    FROM df\n",
    "    GROUP BY country\n",
    "    ORDER BY max_exch_usd DESC\n",
    "    LIMIT 3\n",
    "\"\"\")\n",
    "\n",
    "top_3_exch_usd_sql.show()"
   ]
  },
  {
   "cell_type": "markdown",
   "id": "002c36e4",
   "metadata": {},
   "source": [
    "#### **Interprétation :**\n",
    "\n",
    "Les trois pays avec les taux de change les plus élevés sont <b>la République Centrafricaine</b>, la <b>Côte d'Ivoire</b> et le <b>Zimbabwe</b>. Des taux de change élevés peuvent indiquer une dépréciation significative de la monnaie locale, souvent due à une inflation élevée, une instabilité économique ou des crises monétaires."
   ]
  },
  {
   "cell_type": "markdown",
   "id": "f2d378f7",
   "metadata": {},
   "source": [
    "### **4. Trouver le pays avec le taux d'inflation annuel (CPI) le plus faible en 2004 :**\n",
    "\n",
    "Pour trouver le pays avec le taux d’inflation le plus bas en 2004, nous avons filtré les données pour l'année 2004 et trié les pays par taux d'inflation.\n",
    "\n",
    "#### **Méthode API DataFrame :**"
   ]
  },
  {
   "cell_type": "code",
   "execution_count": 15,
   "id": "cd3236ae",
   "metadata": {},
   "outputs": [
    {
     "name": "stdout",
     "output_type": "stream",
     "text": [
      "+--------------------+--------------------+\n",
      "|             country|inflation_annual_cpi|\n",
      "+--------------------+--------------------+\n",
      "|Central African R...|              -2.244|\n",
      "+--------------------+--------------------+\n",
      "\n"
     ]
    }
   ],
   "source": [
    "lowest_inflation_2004_df = df.filter(col(\"year\") == 2004)\\\n",
    "  .orderBy(\"inflation_annual_cpi\")\\\n",
    "  .select(\"country\", \"inflation_annual_cpi\")\\\n",
    "  .limit(1)\n",
    "\n",
    "lowest_inflation_2004_df.show()"
   ]
  },
  {
   "cell_type": "markdown",
   "id": "5f3b22c2",
   "metadata": {},
   "source": [
    "#### **Méthode SQL :**"
   ]
  },
  {
   "cell_type": "code",
   "execution_count": 16,
   "id": "d3f92af2",
   "metadata": {},
   "outputs": [
    {
     "name": "stdout",
     "output_type": "stream",
     "text": [
      "+--------------------+--------------------+\n",
      "|             country|inflation_annual_cpi|\n",
      "+--------------------+--------------------+\n",
      "|Central African R...|              -2.244|\n",
      "+--------------------+--------------------+\n",
      "\n"
     ]
    }
   ],
   "source": [
    "lowest_inflation_2004_sql = spark.sql(\"\"\"\n",
    "    SELECT country, inflation_annual_cpi\n",
    "    FROM df\n",
    "    WHERE year = 2004\n",
    "    ORDER BY inflation_annual_cpi\n",
    "    LIMIT 1\n",
    "\"\"\")\n",
    "\n",
    "lowest_inflation_2004_sql.show()\n"
   ]
  },
  {
   "cell_type": "markdown",
   "id": "72e873f9",
   "metadata": {},
   "source": [
    "#### **Interprétation :**\n",
    "\n",
    "En <b>2004</b>, la <b>République Centrafricaine</b> a affiché le taux d’inflation le plus bas avec <b>-2.244%</b>, indiquant une <b>déflation</b>. Bien que la déflation puisse réduire le coût des biens et services à court terme, elle peut aussi signaler une demande faible et un possible ralentissement économique."
   ]
  },
  {
   "cell_type": "markdown",
   "id": "3163df91",
   "metadata": {},
   "source": [
    "<hr style=\"border-color:lightgray\">\n",
    "En plus des quatre questions posées dans l’énoncé, nous avons jugé nécessaire d’ajouter une étude plus approfondie pour mieux comprendre l'impact des crises économiques en Afrique."
   ]
  },
  {
   "cell_type": "markdown",
   "id": "e60fe648",
   "metadata": {},
   "source": [
    "### **5. Nombre de crises de chaque type par pays depuis 1970:**\n",
    "\n",
    "Pour chaque pays, nous allons lister le nombre de crises (systémiques, d’inflation et de la dette extérieure souveraine) depuis 1970, car ces types de crises représentent les enjeux économiques et financiers les plus critiques sur cette période et ont un impact majeur et durable sur la stabilité économique et politique des pays.\n",
    "\n",
    "#### **Méthode API DataFrame :**"
   ]
  },
  {
   "cell_type": "code",
   "execution_count": 54,
   "id": "ce213905",
   "metadata": {},
   "outputs": [
    {
     "name": "stdout",
     "output_type": "stream",
     "text": [
      "+------------------------+---------------+----------------+--------------------+\n",
      "|country                 |systemic_crises|inflation_crises|external_debt_crises|\n",
      "+------------------------+---------------+----------------+--------------------+\n",
      "|Algeria                 |3              |5               |6                   |\n",
      "|Angola                  |0              |22              |13                  |\n",
      "|Central African Republic|19             |2               |33                  |\n",
      "|Egypt                   |4              |6               |1                   |\n",
      "|Ivory Coast             |4              |3               |29                  |\n",
      "|Kenya                   |13             |4               |6                   |\n",
      "|Mauritius               |0              |5               |0                   |\n",
      "|Morocco                 |2              |0               |6                   |\n",
      "|Nigeria                 |10             |12              |9                   |\n",
      "|South Africa            |0              |0               |5                   |\n",
      "|Tunisia                 |5              |0               |4                   |\n",
      "|Zambia                  |4              |20              |12                  |\n",
      "|Zimbabwe                |15             |19              |25                  |\n",
      "+------------------------+---------------+----------------+--------------------+\n",
      "\n"
     ]
    }
   ],
   "source": [
    "from pyspark.sql.functions import col, sum\n",
    "\n",
    "# Filtrer les données depuis 1970\n",
    "df_filtered = df.filter(col(\"year\") >= 1970)\n",
    "\n",
    "# Comptage des crises de chaque type par pays\n",
    "crises_count_df = df_filtered.groupBy(\"country\")\\\n",
    "  .agg(\n",
    "    sum(\"systemic_crisis\").alias(\"systemic_crises\"),\n",
    "    sum(\"inflation_crises\").alias(\"inflation_crises\"),\n",
    "    sum(\"sovereign_external_debt_default\").alias(\"external_debt_crises\"),\n",
    "  )\\\n",
    "  .orderBy(\"country\")\n",
    "\n",
    "# Afficher les résultats\n",
    "crises_count_df.show(truncate=False)\n"
   ]
  },
  {
   "cell_type": "markdown",
   "id": "9d1c4545",
   "metadata": {},
   "source": [
    "#### **Méthode SQL :**"
   ]
  },
  {
   "cell_type": "code",
   "execution_count": 55,
   "id": "55d4ba9b",
   "metadata": {},
   "outputs": [
    {
     "name": "stdout",
     "output_type": "stream",
     "text": [
      "+------------------------+---------------+----------------+--------------------+\n",
      "|country                 |systemic_crises|inflation_crises|external_debt_crises|\n",
      "+------------------------+---------------+----------------+--------------------+\n",
      "|Algeria                 |3              |5               |6                   |\n",
      "|Angola                  |0              |22              |13                  |\n",
      "|Central African Republic|19             |2               |33                  |\n",
      "|Egypt                   |4              |6               |1                   |\n",
      "|Ivory Coast             |4              |3               |29                  |\n",
      "|Kenya                   |13             |4               |6                   |\n",
      "|Mauritius               |0              |5               |0                   |\n",
      "|Morocco                 |2              |0               |6                   |\n",
      "|Nigeria                 |10             |12              |9                   |\n",
      "|South Africa            |0              |0               |5                   |\n",
      "|Tunisia                 |5              |0               |4                   |\n",
      "|Zambia                  |4              |20              |12                  |\n",
      "|Zimbabwe                |15             |19              |25                  |\n",
      "+------------------------+---------------+----------------+--------------------+\n",
      "\n"
     ]
    }
   ],
   "source": [
    "crises_count_sql = spark.sql(\"\"\"\n",
    "    SELECT \n",
    "        country,\n",
    "        SUM(systemic_crisis) AS systemic_crises,\n",
    "        SUM(inflation_crises) AS inflation_crises,\n",
    "        SUM(sovereign_external_debt_default) AS external_debt_crises\n",
    "    FROM df\n",
    "    WHERE year >= 1970\n",
    "    GROUP BY country\n",
    "    ORDER BY country\n",
    "\"\"\")\n",
    "\n",
    "# Afficher les résultats\n",
    "crises_count_sql.show(truncate=False)"
   ]
  },
  {
   "cell_type": "markdown",
   "id": "f9bc2f22",
   "metadata": {},
   "source": [
    "#### **Représentation graphique des résultats :**\n"
   ]
  },
  {
   "cell_type": "code",
   "execution_count": 61,
   "id": "96ce3fa3",
   "metadata": {},
   "outputs": [
    {
     "data": {
      "image/png": "[encoded data removed]",
      "text/plain": [
       "<Figure size 936x432 with 1 Axes>"
      ]
     },
     "metadata": {
      "needs_background": "light"
     },
     "output_type": "display_data"
    }
   ],
   "source": [
    "import matplotlib.pyplot as plt\n",
    "import numpy as np\n",
    "import pandas as pd\n",
    "\n",
    "# Convertir le DataFrame en un DataFrame Pandas pour la visualisation\n",
    "crises_count_pd = crises_count_df.toPandas()\n",
    "\n",
    "# Définir les types de crises à visualiser\n",
    "crises_types = [\"systemic_crises\", \"inflation_crises\", \"external_debt_crises\"]\n",
    "labels = [\"Crises Systémiques\", \"Crises Inflationnistes\", \"Crises de la Dette Extérieure Souveraine\"]\n",
    "\n",
    "# Définir les couleurs pour chaque type de crise\n",
    "colors = ['#1f77b4', '#ff7f0e', '#2ca02c']\n",
    "\n",
    "# Création du graphique en barres groupées\n",
    "plt.figure(figsize=(13, 6))  # Ajuster la taille du graphique pour une meilleure clarté\n",
    "\n",
    "# Définir la position des barres\n",
    "bar_width = 0.25  # largeur des barres\n",
    "bar_positions = np.arange(len(crises_count_pd['country']))  # positions des groupes de barres\n",
    "\n",
    "# Plotter les barres pour chaque type de crise\n",
    "for i, (crisis_type, color) in enumerate(zip(crises_types, colors)):\n",
    "    plt.bar(\n",
    "        bar_positions + i * bar_width,  # positions des barres\n",
    "        crises_count_pd[crisis_type],  # hauteur des barres\n",
    "        bar_width,  # largeur des barres\n",
    "        label=labels[i],  # label de la légende\n",
    "        color=color  # couleur des barres\n",
    "    )\n",
    "\n",
    "# Configuration du graphique\n",
    "plt.xlabel('Pays')\n",
    "plt.ylabel('Nombre de Crises')\n",
    "plt.title('Nombre de Crises par Type pour Chaque Pays depuis 1970')\n",
    "plt.xticks(ticks=bar_positions + bar_width,  # ajuster les positions des labels des pays\n",
    "           labels=crises_count_pd['country'], \n",
    "           rotation=90)  # rotation des labels pour une meilleure lisibilité\n",
    "plt.legend(title=\"Types de Crises\")\n",
    "plt.tight_layout()\n",
    "\n",
    "# Afficher le graphique\n",
    "plt.show()"
   ]
  },
  {
   "cell_type": "markdown",
   "id": "980da8d5",
   "metadata": {},
   "source": [
    "#### **Interprétation :**\n",
    "\n",
    "Depuis 1970, la République Centrafricaine a connu le plus grand nombre de crises systémiques (19) et de crises de la dette extérieure souveraine (33), reflétant une instabilité économique et politique persistante. L’Angola et le Zimbabwe ont connu un nombre élevé de crises inflationnistes (22 et 19 respectivement), indiquant des périodes prolongées d’inflation élevée. \n",
    "\n",
    "Ces données illustrent que la République Centrafricaine a été gravement touchée par des crises économiques, tandis que l’Angola et le Zimbabwe ont fait face à des défis majeurs liés à l’inflation et à la dette."
   ]
  },
  {
   "cell_type": "markdown",
   "id": "9836fd0f",
   "metadata": {},
   "source": [
    "## **Conclusion**\n",
    "\n",
    "Cette analyse a permis de mieux comprendre les crises économiques et financières en Afrique en examinant des aspects tels que la fréquence des crises systémiques, les taux de change et l'inflation. La République Centrafricaine se distingue comme le pays le plus touché par les crises systémiques entre 1970 et 1997 et le pays avec le taux d'inflation le plus bas en 2004. Ces résultats soulignent l'importance de comprendre les facteurs économiques et politiques sous-jacents aux crises et leur impact sur les économies des pays africains."
   ]
  }
 ],
 "metadata": {
  "kernelspec": {
   "display_name": "Python 3 (ipykernel)",
   "language": "python",
   "name": "python3"
  },
  "language_info": {
   "codemirror_mode": {
    "name": "ipython",
    "version": 3
   },
   "file_extension": ".py",
   "mimetype": "text/x-python",
   "name": "python",
   "nbconvert_exporter": "python",
   "pygments_lexer": "ipython3",
   "version": "3.9.12"
  }
 },
 "nbformat": 4,
 "nbformat_minor": 5
}
