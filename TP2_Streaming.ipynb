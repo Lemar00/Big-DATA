{
 "cells": [
  {
   "cell_type": "code",
   "execution_count": null,
   "id": "a9578dc3-681b-4c5a-b9f2-3325d75d2967",
   "metadata": {},
   "outputs": [],
   "source": []
  },
  {
   "cell_type": "code",
   "execution_count": null,
   "id": "5ca2b118-81ec-46c1-8b46-95e9b310019b",
   "metadata": {},
   "outputs": [],
   "source": []
  },
  {
   "cell_type": "code",
   "execution_count": null,
   "id": "05e45af8-9849-4da7-9ac4-0a1fa3661275",
   "metadata": {},
   "outputs": [],
   "source": []
  },
  {
   "cell_type": "code",
   "execution_count": null,
   "id": "718dd36e-a00b-48c9-92bc-7208144580d4",
   "metadata": {},
   "outputs": [],
   "source": []
  },
  {
   "cell_type": "code",
   "execution_count": null,
   "id": "0ca203a5-b760-444f-b077-3df67609eb17",
   "metadata": {},
   "outputs": [],
   "source": []
  },
  {
   "cell_type": "code",
   "execution_count": null,
   "id": "a6e29125-b023-4dfe-b7e6-bc2a79b99fe5",
   "metadata": {},
   "outputs": [],
   "source": []
  },
  {
   "cell_type": "code",
   "execution_count": null,
   "id": "aaffc454-9095-4f9d-9b04-863b8720b484",
   "metadata": {},
   "outputs": [],
   "source": []
  },
  {
   "cell_type": "code",
   "execution_count": null,
   "id": "7191d589-a389-4b58-b053-1b51692d05c8",
   "metadata": {},
   "outputs": [],
   "source": []
  },
  {
   "cell_type": "code",
   "execution_count": null,
   "id": "744e740c-3a7c-4593-ad64-179db48d898d",
   "metadata": {},
   "outputs": [],
   "source": []
  },
  {
   "cell_type": "code",
   "execution_count": null,
   "id": "03c232d6-ff3a-49ff-9607-eb894113e3d6",
   "metadata": {},
   "outputs": [],
   "source": []
  },
  {
   "cell_type": "code",
   "execution_count": null,
   "id": "a436ac7c-fb16-49f8-ae42-af5f07272322",
   "metadata": {},
   "outputs": [],
   "source": []
  },
  {
   "cell_type": "code",
   "execution_count": 1,
   "id": "28d900ce-b28b-4cf8-a8af-29278f7f85dd",
   "metadata": {},
   "outputs": [
    {
     "name": "stdout",
     "output_type": "stream",
     "text": [
      "findspark.init() initialise les variables d'environnement pour spark\n"
     ]
    }
   ],
   "source": [
    "# Principaux import\n",
    "import findspark\n",
    "print(\"findspark.init() initialise les variables d'environnement pour spark\")\n",
    "findspark.init()\n",
    "\n",
    "from pyspark.sql import SparkSession\n",
    "from pyspark import SparkConf\n",
    "from pyspark.sql.functions import *\n",
    "from pyspark.sql.types import *\n",
    "from datetime import *\n",
    "#import mysql.connector\n",
    "import pandas as pd\n",
    "import numpy as np\n",
    "import matplotlib.pyplot as plt\n",
    "#from pyspark.sql import HiveContext"
   ]
  },
  {
   "cell_type": "code",
   "execution_count": 2,
   "id": "331e691e-c931-4d11-9e1a-b8830e923b32",
   "metadata": {},
   "outputs": [
    {
     "name": "stderr",
     "output_type": "stream",
     "text": [
      "Setting default log level to \"WARN\".\n",
      "To adjust logging level use sc.setLogLevel(newLevel). For SparkR, use setLogLevel(newLevel).\n",
      "24/07/05 16:37:55 WARN NativeCodeLoader: Unable to load native-hadoop library for your platform... using builtin-java classes where applicable\n"
     ]
    }
   ],
   "source": [
    "spark = SparkSession.builder \\\n",
    "    .appName(\"Big Data TP_Streaming\") \\\n",
    "    .getOrCreate()"
   ]
  },
  {
   "cell_type": "code",
   "execution_count": 9,
   "id": "839a044c-1531-4541-b342-0eb85d8539a6",
   "metadata": {},
   "outputs": [],
   "source": [
    "import requests"
   ]
  },
  {
   "cell_type": "code",
   "execution_count": 10,
   "id": "8b0e4737-21d0-4d1c-90f9-f5e044a3113e",
   "metadata": {},
   "outputs": [],
   "source": [
    "url = \"http://api.luftdaten.info/static/v1/data.json\"\n",
    "file = requests.get(url)"
   ]
  },
  {
   "cell_type": "code",
   "execution_count": 17,
   "id": "9f4be661-d542-4bfc-b5ea-cc914275b029",
   "metadata": {},
   "outputs": [],
   "source": [
    "import requests\n",
    "\n",
    "url = \"http://api.luftdaten.info/static/v1/data.json\"\n",
    "response = requests.get(url)\n",
    "\n",
    "with open(\"data.json\", \"w\") as f:\n",
    "    f.write(response.text)"
   ]
  },
  {
   "cell_type": "code",
   "execution_count": 18,
   "id": "5c924438-4e76-4345-8914-251c0fe14c3b",
   "metadata": {},
   "outputs": [],
   "source": [
    "from pyspark.sql import SparkSession\n",
    "\n",
    "# Initialiser SparkSession\n",
    "spark = SparkSession.builder.appName(\"LoadJSON\").getOrCreate()\n",
    "\n",
    "# Charger le fichier JSON local dans un DataFrame\n",
    "df = spark.read.format(\"json\").load(\"data.json\")"
   ]
  },
  {
   "cell_type": "code",
   "execution_count": 23,
   "id": "353d768f-4dd1-4e77-a784-9532b036dfe2",
   "metadata": {},
   "outputs": [
    {
     "data": {
      "text/plain": [
       "['id', 'location', 'sampling_rate', 'sensor', 'sensordatavalues', 'timestamp']"
      ]
     },
     "execution_count": 23,
     "metadata": {},
     "output_type": "execute_result"
    }
   ],
   "source": [
    "df.columns"
   ]
  },
  {
   "cell_type": "code",
   "execution_count": 21,
   "id": "8361e80d-f941-45c5-a633-9dcae956d07c",
   "metadata": {},
   "outputs": [
    {
     "name": "stdout",
     "output_type": "stream",
     "text": [
      "+-------------------+-----------+\n",
      "|          timestamp|         id|\n",
      "+-------------------+-----------+\n",
      "|2024-07-05 17:06:01|21157663228|\n",
      "|2024-07-05 17:06:01|21157663225|\n",
      "|2024-07-05 17:06:01|21157663224|\n",
      "|2024-07-05 17:06:01|21157663220|\n",
      "|2024-07-05 17:06:01|21157663218|\n",
      "|2024-07-05 17:06:01|21157663217|\n",
      "|2024-07-05 17:06:01|21157663216|\n",
      "|2024-07-05 17:06:01|21157663214|\n",
      "|2024-07-05 17:06:01|21157663212|\n",
      "|2024-07-05 17:06:01|21157663211|\n",
      "|2024-07-05 17:06:01|21157663209|\n",
      "|2024-07-05 17:06:01|21157663208|\n",
      "|2024-07-05 17:06:01|21157663206|\n",
      "|2024-07-05 17:06:01|21157663205|\n",
      "|2024-07-05 17:06:01|21157663203|\n",
      "|2024-07-05 17:06:01|21157663201|\n",
      "|2024-07-05 17:06:01|21157663200|\n",
      "|2024-07-05 17:06:01|21157663199|\n",
      "|2024-07-05 17:06:01|21157663198|\n",
      "|2024-07-05 17:06:01|21157663197|\n",
      "+-------------------+-----------+\n",
      "only showing top 20 rows\n",
      "\n"
     ]
    }
   ],
   "source": [
    "# Sélectionner les colonnes `timestamp` et `sensor_type`\n",
    "df_selected = df.select(\"timestamp\",\"\")\n",
    "\n",
    "# Afficher le DataFrame résultant\n",
    "df_selected.show()"
   ]
  },
  {
   "cell_type": "code",
   "execution_count": null,
   "id": "da10e28c-b231-41ea-96f5-2ce0a60f05a1",
   "metadata": {},
   "outputs": [],
   "source": []
  }
 ],
 "metadata": {
  "kernelspec": {
   "display_name": "Python 3 (ipykernel)",
   "language": "python",
   "name": "python3"
  },
  "language_info": {
   "codemirror_mode": {
    "name": "ipython",
    "version": 3
   },
   "file_extension": ".py",
   "mimetype": "text/x-python",
   "name": "python",
   "nbconvert_exporter": "python",
   "pygments_lexer": "ipython3",
   "version": "3.11.7"
  }
 },
 "nbformat": 4,
 "nbformat_minor": 5
}
