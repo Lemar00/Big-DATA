{
 "cells": [
  {
   "cell_type": "code",
   "execution_count": 1,
   "id": "8d0cacca-856c-4103-9f74-f4564d86a2f8",
   "metadata": {},
   "outputs": [
    {
     "name": "stdout",
     "output_type": "stream",
     "text": [
      "Requirement already satisfied: pip in /opt/anaconda3/lib/python3.11/site-packages (24.1.1)\n",
      "Note: you may need to restart the kernel to use updated packages.\n"
     ]
    }
   ],
   "source": [
    "pip install --upgrade pip"
   ]
  },
  {
   "cell_type": "code",
   "execution_count": null,
   "id": "70433e54-8c18-4665-98de-d4c672592a26",
   "metadata": {},
   "outputs": [],
   "source": []
  },
  {
   "cell_type": "markdown",
   "id": "b022330c-0a6f-4671-817b-bdf0573f47b4",
   "metadata": {},
   "source": [
    "Initialiser Spark"
   ]
  },
  {
   "cell_type": "code",
   "execution_count": 2,
   "id": "86a162cc-c2a0-44c9-93da-ff4a903610f5",
   "metadata": {},
   "outputs": [
    {
     "name": "stdout",
     "output_type": "stream",
     "text": [
      "findspark.init() initialise les variables d'environnement pour spark\n"
     ]
    }
   ],
   "source": [
    "# Principaux import\n",
    "import findspark\n",
    "print(\"findspark.init() initialise les variables d'environnement pour spark\")\n",
    "findspark.init()\n",
    "\n",
    "from pyspark.sql import SparkSession\n",
    "from pyspark import SparkConf\n",
    "from pyspark.sql.functions import *\n",
    "from pyspark.sql.types import *\n",
    "from datetime import *\n",
    "#import mysql.connector\n",
    "import pandas as pd\n",
    "import numpy as np\n",
    "import matplotlib.pyplot as plt\n",
    "#from pyspark.sql import HiveContext"
   ]
  },
  {
   "cell_type": "code",
   "execution_count": 3,
   "id": "7d65267c-d3c3-405a-97d2-2e92191fdf08",
   "metadata": {},
   "outputs": [
    {
     "name": "stdout",
     "output_type": "stream",
     "text": [
      "Requirement already satisfied: pandas in /opt/anaconda3/lib/python3.11/site-packages (2.1.4)\n",
      "Requirement already satisfied: openpyxl in /opt/anaconda3/lib/python3.11/site-packages (3.0.10)\n",
      "Requirement already satisfied: numpy<2,>=1.23.2 in /opt/anaconda3/lib/python3.11/site-packages (from pandas) (1.26.4)\n",
      "Requirement already satisfied: python-dateutil>=2.8.2 in /opt/anaconda3/lib/python3.11/site-packages (from pandas) (2.8.2)\n",
      "Requirement already satisfied: pytz>=2020.1 in /opt/anaconda3/lib/python3.11/site-packages (from pandas) (2023.3.post1)\n",
      "Requirement already satisfied: tzdata>=2022.1 in /opt/anaconda3/lib/python3.11/site-packages (from pandas) (2023.3)\n",
      "Requirement already satisfied: et_xmlfile in /opt/anaconda3/lib/python3.11/site-packages (from openpyxl) (1.1.0)\n",
      "Requirement already satisfied: six>=1.5 in /opt/anaconda3/lib/python3.11/site-packages (from python-dateutil>=2.8.2->pandas) (1.16.0)\n",
      "Note: you may need to restart the kernel to use updated packages.\n"
     ]
    }
   ],
   "source": [
    "pip install pandas openpyxl"
   ]
  },
  {
   "cell_type": "code",
   "execution_count": 4,
   "id": "cd2cabda-21c0-4f48-a500-201e0f407d97",
   "metadata": {},
   "outputs": [
    {
     "name": "stderr",
     "output_type": "stream",
     "text": [
      "Setting default log level to \"WARN\".\n",
      "To adjust logging level use sc.setLogLevel(newLevel). For SparkR, use setLogLevel(newLevel).\n",
      "24/07/01 22:55:53 WARN NativeCodeLoader: Unable to load native-hadoop library for your platform... using builtin-java classes where applicable\n"
     ]
    }
   ],
   "source": [
    "spark = SparkSession.builder \\\n",
    "    .appName(\"Big Data TP\") \\\n",
    "    .getOrCreate()\n"
   ]
  },
  {
   "cell_type": "markdown",
   "id": "e663dbe6-be39-4682-8d2b-b920b7b1456c",
   "metadata": {},
   "source": [
    "Chargement du dataset"
   ]
  },
  {
   "cell_type": "code",
   "execution_count": 5,
   "id": "5df33739-7da0-4559-b6eb-89c77499b106",
   "metadata": {},
   "outputs": [],
   "source": [
    "# Chemin vers le dataset \n",
    "path =\"african_crises.csv\"\n",
    "\n",
    "# Chargement des données\n",
    "df = spark.read.csv(path, header=True, inferSchema=True)"
   ]
  },
  {
   "cell_type": "code",
   "execution_count": 6,
   "id": "cb645956-9554-4ad0-8b6f-10732a8be302",
   "metadata": {},
   "outputs": [
    {
     "name": "stdout",
     "output_type": "stream",
     "text": [
      "+----+---+-------+----+---------------+--------+------------------------+-------------------------------+--------------------+--------------------+------------+---------------+----------------+--------------+\n",
      "|case|cc3|country|year|systemic_crisis|exch_usd|domestic_debt_in_default|sovereign_external_debt_default|gdp_weighted_default|inflation_annual_cpi|independence|currency_crises|inflation_crises|banking_crisis|\n",
      "+----+---+-------+----+---------------+--------+------------------------+-------------------------------+--------------------+--------------------+------------+---------------+----------------+--------------+\n",
      "|   1|DZA|Algeria|1870|              1|0.052264|                       0|                              0|                 0.0|         3.441455696|           0|              0|               0|        crisis|\n",
      "|   1|DZA|Algeria|1871|              0|0.052798|                       0|                              0|                 0.0|         14.14913958|           0|              0|               0|     no_crisis|\n",
      "|   1|DZA|Algeria|1872|              0|0.052274|                       0|                              0|                 0.0|        -3.718592965|           0|              0|               0|     no_crisis|\n",
      "|   1|DZA|Algeria|1873|              0| 0.05168|                       0|                              0|                 0.0|         11.20389701|           0|              0|               0|     no_crisis|\n",
      "|   1|DZA|Algeria|1874|              0|0.051308|                       0|                              0|                 0.0|        -3.848560701|           0|              0|               0|     no_crisis|\n",
      "+----+---+-------+----+---------------+--------+------------------------+-------------------------------+--------------------+--------------------+------------+---------------+----------------+--------------+\n",
      "only showing top 5 rows\n",
      "\n"
     ]
    }
   ],
   "source": [
    "df.show(5)"
   ]
  },
  {
   "cell_type": "code",
   "execution_count": 7,
   "id": "993dd335-d2d2-4c6b-9baa-2e942806c735",
   "metadata": {},
   "outputs": [],
   "source": [
    "# Renommage des colonnes pour correspondre aux noms attendus\n",
    "df = df.withColumnRenamed('Year', 'year') \\\n",
    "       .withColumnRenamed('Systemic Crisis', 'systemic_crisis') \\\n",
    "       .withColumnRenamed('Inflation, Annual percentages of average consumer prices', 'inflation_annual_cpi') \\\n",
    "       .withColumnRenamed('Currency Crises', 'currency_crises') \\\n",
    "       .withColumnRenamed('Banking Crisis ', 'banking_crisis')\n",
    "\n",
    "# Création de la vue temporaire\n",
    "df.createOrReplaceTempView(\"african_crises\")"
   ]
  },
  {
   "cell_type": "code",
   "execution_count": 8,
   "id": "10ed3e53-0be1-4e45-a214-2710fb8ab370",
   "metadata": {},
   "outputs": [
    {
     "data": {
      "text/plain": [
       "['case',\n",
       " 'cc3',\n",
       " 'country',\n",
       " 'year',\n",
       " 'systemic_crisis',\n",
       " 'exch_usd',\n",
       " 'domestic_debt_in_default',\n",
       " 'sovereign_external_debt_default',\n",
       " 'gdp_weighted_default',\n",
       " 'inflation_annual_cpi',\n",
       " 'independence',\n",
       " 'currency_crises',\n",
       " 'inflation_crises',\n",
       " 'banking_crisis']"
      ]
     },
     "execution_count": 8,
     "metadata": {},
     "output_type": "execute_result"
    }
   ],
   "source": [
    "df.columns"
   ]
  },
  {
   "cell_type": "markdown",
   "id": "21a955e6-2e90-40f0-9817-007090c77bef",
   "metadata": {},
   "source": [
    "Renommer les colonnes pour faciliter la manipulation "
   ]
  },
  {
   "cell_type": "code",
   "execution_count": 9,
   "id": "5ba3404c-8b03-4f34-aea0-546747205392",
   "metadata": {},
   "outputs": [],
   "source": [
    "df = df.withColumnRenamed('Year', 'year') \\\n",
    "       .withColumnRenamed('Systemic Crisis', 'systemic_crisis') \\\n",
    "       .withColumnRenamed('Inflation, Annual percentages of average consumer prices', 'inflation_annual_cpi')"
   ]
  },
  {
   "cell_type": "markdown",
   "id": "57e4b28b-50b9-4dea-a443-c4a5fd4a89e5",
   "metadata": {},
   "source": [
    "Pays avec le plus de crises systèmes entre 1970 et 1997"
   ]
  },
  {
   "cell_type": "markdown",
   "id": "7149b6ae-6dc1-4e82-9e7f-bce1117f0e73",
   "metadata": {},
   "source": [
    "Méthode avec API DataFrame"
   ]
  },
  {
   "cell_type": "code",
   "execution_count": 22,
   "id": "27b30350-7cdc-4f36-a11e-503269612ecb",
   "metadata": {},
   "outputs": [
    {
     "name": "stdout",
     "output_type": "stream",
     "text": [
      "Pays avec le plus de crises systémiques entre 1970 et 1907: Central African Republic\n"
     ]
    },
    {
     "data": {
      "image/png": "[encoded data removed]",
      "text/plain": [
       "<Figure size 1200x600 with 1 Axes>"
      ]
     },
     "metadata": {},
     "output_type": "display_data"
    }
   ],
   "source": [
    "df_filtered = df.filter((df.year >= 1970) & (df.year <= 1997))\n",
    "crises_per_country = df_filtered.groupBy(\"Country\").agg({\"systemic_crisis\": \"sum\"})\n",
    "crises_per_country = crises_per_country.withColumnRenamed(\"sum(systemic_crisis)\", \"total_crises\")\n",
    "country_most_crises = crises_per_country.orderBy(crises_per_country.total_crises.desc()).first()\n",
    "print(\"Pays avec le plus de crises systémiques entre 1970 et 1907:\", country_most_crises[\"Country\"])\n",
    "\n",
    "# Convertir en pandas DataFrame pour la visualisation\n",
    "crises_per_country_pd = crises_per_country.toPandas()\n",
    "\n",
    "# Visualisation\n",
    "plt.figure(figsize=(12, 6))\n",
    "plt.bar(crises_per_country_pd['Country'], crises_per_country_pd['total_crises'])\n",
    "plt.xlabel('Pays')\n",
    "plt.ylabel('Nombre de crises systémiques')\n",
    "plt.title('Nombre de crises systémiques par pays (1970-1997)')\n",
    "plt.xticks(rotation=90)\n",
    "plt.show()\n"
   ]
  },
  {
   "cell_type": "markdown",
   "id": "40b60b64-e986-49dc-85bf-53f2aa399bed",
   "metadata": {},
   "source": [
    "Méthode avec Spark SQL"
   ]
  },
  {
   "cell_type": "code",
   "execution_count": 24,
   "id": "9d58be99-8fdc-466f-9a5e-52e8608d6111",
   "metadata": {},
   "outputs": [
    {
     "name": "stdout",
     "output_type": "stream",
     "text": [
      "Pays avec le plus de crises systémiques entre 1970 et 1907: Central African Republic\n"
     ]
    }
   ],
   "source": [
    "query1 = \"\"\"\n",
    "SELECT Country, SUM(systemic_crisis) as total_crises\n",
    "FROM african_crises\n",
    "WHERE year >= 1970 AND year <= 1997\n",
    "GROUP BY Country\n",
    "ORDER BY total_crises DESC\n",
    "LIMIT 1\n",
    "\"\"\"\n",
    "country_most_crises_sql = spark.sql(query1).first()\n",
    "print(\"Pays avec le plus de crises systémiques entre 1970 et 1907:\", country_most_crises_sql[\"Country\"])"
   ]
  },
  {
   "cell_type": "markdown",
   "id": "35091861-bde2-44f9-94c6-2df6b5efba74",
   "metadata": {},
   "source": [
    "Nombre moyen de crises systémiques par pays sur toute la période d'observation"
   ]
  },
  {
   "cell_type": "markdown",
   "id": "2a9880f9-b2f0-49ff-bed3-8f994bb1bb89",
   "metadata": {},
   "source": [
    "Méthode avec API DataFrame"
   ]
  },
  {
   "cell_type": "code",
   "execution_count": 29,
   "id": "3c0ddf36-7763-4e82-8cac-d16172850465",
   "metadata": {},
   "outputs": [
    {
     "name": "stdout",
     "output_type": "stream",
     "text": [
      "Nombre moyen de crises systémiques par pays sur toute la période: 6.3076923076923075\n"
     ]
    }
   ],
   "source": [
    "total_crises_per_country = df.groupBy(\"Country\").agg({\"systemic_crisis\": \"sum\"})\n",
    "total_crises_per_country = total_crises_per_country.withColumnRenamed(\"sum(systemic_crisis)\", \"total_crises\")\n"
   ]
  },
  {
   "cell_type": "markdown",
   "id": "55a4e0cf-33ba-4259-bb02-5a7ebd263ce1",
   "metadata": {},
   "source": [
    "Méthode avec Spark SQL"
   ]
  },
  {
   "cell_type": "code",
   "execution_count": 13,
   "id": "e77fd642-d188-41f1-b09e-179f641db2b3",
   "metadata": {},
   "outputs": [
    {
     "name": "stdout",
     "output_type": "stream",
     "text": [
      "Nombre moyen de crises systémiques par pays sur toute la période: 6.3076923076923075\n"
     ]
    }
   ],
   "source": [
    "query2 = \"\"\"\n",
    "SELECT AVG(total_crises) as avg_crises\n",
    "FROM (\n",
    "    SELECT Country, SUM(systemic_crisis) as total_crises\n",
    "    FROM african_crises\n",
    "    GROUP BY Country\n",
    ") as country_crises\n",
    "\"\"\"\n",
    "mean_crises_per_country_sql = spark.sql(query2).first()\n",
    "print(\"Nombre moyen de crises systémiques par pays sur toute la période:\", mean_crises_per_country_sql[\"avg_crises\"])"
   ]
  },
  {
   "cell_type": "markdown",
   "id": "b9bbf862-578d-4eb3-80e4-342c7d8cb489",
   "metadata": {},
   "source": [
    "Pays avec le plus grand taux de change vis-à-vis du dollar (USD) (le top 3 des plus grands)"
   ]
  },
  {
   "cell_type": "markdown",
   "id": "8fb1b683-ce08-4e3c-b997-009e654ea036",
   "metadata": {},
   "source": [
    "Méthode avec API DataFrame"
   ]
  },
  {
   "cell_type": "code",
   "execution_count": 14,
   "id": "d641863e-6706-4535-a124-ebe7a49891f9",
   "metadata": {},
   "outputs": [
    {
     "name": "stdout",
     "output_type": "stream",
     "text": [
      "Top 3 pays avec le plus grand taux de change vis-à-vis du dollar (USD):\n",
      "Pays: Central African Republic, Année: 1981, Taux de change: 287.3997967\n",
      "Pays: Egypt, Année: 1868, Taux de change: 0.20661157\n",
      "Pays: Egypt, Année: 1944, Taux de change: 0.2416\n"
     ]
    }
   ],
   "source": [
    "exchange_rate_top3 = df.orderBy(df.exch_usd.desc()).select(\"Country\", \"year\", \"exch_usd\").distinct().limit(3).collect()\n",
    "print(\"Top 3 pays avec le plus grand taux de change vis-à-vis du dollar (USD):\")\n",
    "for row in exchange_rate_top3:\n",
    "    print(f\"Pays: {row['Country']}, Année: {row['year']}, Taux de change: {row['exch_usd']}\")"
   ]
  },
  {
   "cell_type": "markdown",
   "id": "d30f711f-1b10-43b8-8a40-27e02c8b5f7a",
   "metadata": {},
   "source": [
    "Méthode avec Spark SQL"
   ]
  },
  {
   "cell_type": "code",
   "execution_count": 15,
   "id": "3762c43f-a762-441d-924f-c7773ad830b6",
   "metadata": {},
   "outputs": [
    {
     "name": "stdout",
     "output_type": "stream",
     "text": [
      "Top 3 pays avec le plus grand taux de change vis-à-vis du dollar (USD) (SQL):\n",
      "Pays: Central African Republic, Année: 2001, Taux de change: 744.3061387\n",
      "Pays: Central African Republic, Année: 2000, Taux de change: 704.9511016\n",
      "Pays: Central African Republic, Année: 1999, Taux de change: 652.9534143\n"
     ]
    }
   ],
   "source": [
    "query3 = \"\"\"\n",
    "SELECT DISTINCT Country, year, exch_usd\n",
    "FROM african_crises\n",
    "ORDER BY exch_usd DESC\n",
    "LIMIT 3\n",
    "\"\"\"\n",
    "exchange_rate_top3_sql = spark.sql(query3).collect()\n",
    "print(\"Top 3 pays avec le plus grand taux de change vis-à-vis du dollar (USD) (SQL):\")\n",
    "for row in exchange_rate_top3_sql:\n",
    "    print(f\"Pays: {row['Country']}, Année: {row['year']}, Taux de change: {row['exch_usd']}\")"
   ]
  },
  {
   "cell_type": "markdown",
   "id": "b8a40fcc-f015-4820-96f2-9966fe08b263",
   "metadata": {},
   "source": [
    "Pays avec le plus faible taux d’inflation annuelle (CPI) en 2004"
   ]
  },
  {
   "cell_type": "markdown",
   "id": "d02474fb-8271-4923-bdb0-644590766236",
   "metadata": {},
   "source": [
    "Méthode avec API DataFrame"
   ]
  },
  {
   "cell_type": "code",
   "execution_count": 16,
   "id": "a46dfcc7-b02e-4703-9985-52a4d58d74bd",
   "metadata": {},
   "outputs": [
    {
     "name": "stdout",
     "output_type": "stream",
     "text": [
      "Pays avec le plus faible taux d’inflation annuelle (CPI) en 2004: Central African Republic\n"
     ]
    }
   ],
   "source": [
    "df_2004 = df.filter(df.year == 2004)\n",
    "lowest_inflation_country = df_2004.orderBy(df_2004.inflation_annual_cpi.asc()).first()\n",
    "print(\"Pays avec le plus faible taux d’inflation annuelle (CPI) en 2004:\", lowest_inflation_country[\"country\"])"
   ]
  },
  {
   "cell_type": "markdown",
   "id": "6e86e59d-5bb5-4f58-bb91-c23a0abdc79b",
   "metadata": {},
   "source": [
    "Méthode avec Spark SQL"
   ]
  },
  {
   "cell_type": "code",
   "execution_count": 47,
   "id": "76a038e8-9f31-4f02-988b-ac0c804af4a7",
   "metadata": {},
   "outputs": [
    {
     "name": "stdout",
     "output_type": "stream",
     "text": [
      "Pays avec le plus faible taux d’inflation annuelle (CPI) en 2004 Row(Country='Central African Republic')\n"
     ]
    }
   ],
   "source": [
    "query4 = \"\"\"\n",
    "SELECT Country\n",
    "FROM african_crises\n",
    "WHERE year = 2004\n",
    "ORDER BY inflation_annual_cpi ASC\n",
    "LIMIT 1\n",
    "\"\"\"\n",
    "lowest_inflation_country_sql = spark.sql(query4).first()\n",
    "print(\"Pays avec le plus faible taux d’inflation annuelle (CPI) en 2004\",lowest_inflation_country_sql)"
   ]
  },
  {
   "cell_type": "code",
   "execution_count": null,
   "id": "900efe03-7ff2-436f-832f-1fcd1fb754cb",
   "metadata": {},
   "outputs": [],
   "source": []
  },
  {
   "cell_type": "code",
   "execution_count": null,
   "id": "ca0c79a9-d088-4a61-adca-b45f49f13d58",
   "metadata": {},
   "outputs": [],
   "source": []
  }
 ],
 "metadata": {
  "kernelspec": {
   "display_name": "Python 3 (ipykernel)",
   "language": "python",
   "name": "python3"
  },
  "language_info": {
   "codemirror_mode": {
    "name": "ipython",
    "version": 3
   },
   "file_extension": ".py",
   "mimetype": "text/x-python",
   "name": "python",
   "nbconvert_exporter": "python",
   "pygments_lexer": "ipython3",
   "version": "3.11.7"
  }
 },
 "nbformat": 4,
 "nbformat_minor": 5
}
